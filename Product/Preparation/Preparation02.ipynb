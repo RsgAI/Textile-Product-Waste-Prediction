{
 "cells": [
  {
   "cell_type": "markdown",
   "metadata": {},
   "source": [
    "# Second Data Preparation Process\n",
    "\n",
    "In this notebook file, the dataset provided by the customer will be eddited for general purposes.\n",
    "\n",
    "Features will be examined a little more deeply by focusing in particular on the data types of them."
   ]
  },
  {
   "cell_type": "code",
   "execution_count": 1,
   "metadata": {},
   "outputs": [],
   "source": [
    "#Libraries are being imported\n",
    "import numpy as np\n",
    "import pandas as pd"
   ]
  },
  {
   "cell_type": "code",
   "execution_count": 2,
   "metadata": {},
   "outputs": [
    {
     "name": "stdout",
     "output_type": "stream",
     "text": [
      "numpy Version: 1.23.5\n",
      "pandas Version: 1.5.2\n"
     ]
    }
   ],
   "source": [
    "#Library versions are being printed\n",
    "print('numpy Version: ' + np.__version__)\n",
    "print('pandas Version: ' + pd.__version__)"
   ]
  },
  {
   "cell_type": "code",
   "execution_count": 3,
   "metadata": {},
   "outputs": [
    {
     "data": {
      "text/html": [
       "<div>\n",
       "<style scoped>\n",
       "    .dataframe tbody tr th:only-of-type {\n",
       "        vertical-align: middle;\n",
       "    }\n",
       "\n",
       "    .dataframe tbody tr th {\n",
       "        vertical-align: top;\n",
       "    }\n",
       "\n",
       "    .dataframe thead th {\n",
       "        text-align: right;\n",
       "    }\n",
       "</style>\n",
       "<table border=\"1\" class=\"dataframe\">\n",
       "  <thead>\n",
       "    <tr style=\"text-align: right;\">\n",
       "      <th></th>\n",
       "      <th>Product</th>\n",
       "      <th>Color</th>\n",
       "      <th>ProductDetail</th>\n",
       "      <th>FabricCode</th>\n",
       "      <th>FabricDetail</th>\n",
       "      <th>Weight</th>\n",
       "      <th>Width</th>\n",
       "      <th>ProductPart</th>\n",
       "      <th>NotchLayer</th>\n",
       "      <th>NotchQuantity</th>\n",
       "      <th>...</th>\n",
       "      <th>Repair</th>\n",
       "      <th>Delivery</th>\n",
       "      <th>PrintError</th>\n",
       "      <th>SewingError</th>\n",
       "      <th>FabricStain</th>\n",
       "      <th>FabricError</th>\n",
       "      <th>EmbroideryError</th>\n",
       "      <th>MeasureError</th>\n",
       "      <th>SecondQuality</th>\n",
       "      <th>Comment</th>\n",
       "    </tr>\n",
       "  </thead>\n",
       "  <tbody>\n",
       "    <tr>\n",
       "      <th>0</th>\n",
       "      <td>M6030 JERSEY SHIRT LANGARM</td>\n",
       "      <td>PINIE</td>\n",
       "      <td>KADIN T-SHIRT</td>\n",
       "      <td>2SP050</td>\n",
       "      <td>NE 50/1 PNY 20DE - SUPREM A.EN 32 28 125 G/M2 ...</td>\n",
       "      <td>125</td>\n",
       "      <td>150</td>\n",
       "      <td>4</td>\n",
       "      <td>35</td>\n",
       "      <td>3</td>\n",
       "      <td>...</td>\n",
       "      <td>20</td>\n",
       "      <td>399</td>\n",
       "      <td>4.0</td>\n",
       "      <td>NaN</td>\n",
       "      <td>1.0</td>\n",
       "      <td>1.0</td>\n",
       "      <td>NaN</td>\n",
       "      <td>NaN</td>\n",
       "      <td>6</td>\n",
       "      <td>NaN</td>\n",
       "    </tr>\n",
       "    <tr>\n",
       "      <th>1</th>\n",
       "      <td>M6030 JERSEY SHIRT LANGARM</td>\n",
       "      <td>PFIRSICH</td>\n",
       "      <td>KADIN T-SHIRT</td>\n",
       "      <td>2SP050</td>\n",
       "      <td>NE 50/1 PNY 20DE - SUPREM A.EN 32 28 125 G/M2 ...</td>\n",
       "      <td>125</td>\n",
       "      <td>150</td>\n",
       "      <td>4</td>\n",
       "      <td>65</td>\n",
       "      <td>3</td>\n",
       "      <td>...</td>\n",
       "      <td>22</td>\n",
       "      <td>411</td>\n",
       "      <td>NaN</td>\n",
       "      <td>2.0</td>\n",
       "      <td>1.0</td>\n",
       "      <td>NaN</td>\n",
       "      <td>NaN</td>\n",
       "      <td>NaN</td>\n",
       "      <td>3</td>\n",
       "      <td>NaN</td>\n",
       "    </tr>\n",
       "    <tr>\n",
       "      <th>2</th>\n",
       "      <td>M6030 JERSEY SHIRT LANGARM</td>\n",
       "      <td>HELLBLAU</td>\n",
       "      <td>KADIN T-SHIRT</td>\n",
       "      <td>2SP050</td>\n",
       "      <td>NE 50/1 PNY 20DE - SUPREM A.EN 32 28 125 G/M2 ...</td>\n",
       "      <td>125</td>\n",
       "      <td>150</td>\n",
       "      <td>4</td>\n",
       "      <td>65</td>\n",
       "      <td>3</td>\n",
       "      <td>...</td>\n",
       "      <td>19</td>\n",
       "      <td>378</td>\n",
       "      <td>1.0</td>\n",
       "      <td>5.0</td>\n",
       "      <td>2.0</td>\n",
       "      <td>1.0</td>\n",
       "      <td>1.0</td>\n",
       "      <td>1.0</td>\n",
       "      <td>11</td>\n",
       "      <td>NaN</td>\n",
       "    </tr>\n",
       "    <tr>\n",
       "      <th>3</th>\n",
       "      <td>M6030 JERSEY SHIRT LANGARM</td>\n",
       "      <td>PETROLBLAU</td>\n",
       "      <td>KADIN T-SHIRT</td>\n",
       "      <td>2SP050</td>\n",
       "      <td>NE 50/1 PNY 20DE - SUPREM A.EN 32 28 125 G/M2 ...</td>\n",
       "      <td>125</td>\n",
       "      <td>150</td>\n",
       "      <td>4</td>\n",
       "      <td>65</td>\n",
       "      <td>3</td>\n",
       "      <td>...</td>\n",
       "      <td>18</td>\n",
       "      <td>406</td>\n",
       "      <td>NaN</td>\n",
       "      <td>4.0</td>\n",
       "      <td>2.0</td>\n",
       "      <td>2.0</td>\n",
       "      <td>NaN</td>\n",
       "      <td>NaN</td>\n",
       "      <td>8</td>\n",
       "      <td>NaN</td>\n",
       "    </tr>\n",
       "    <tr>\n",
       "      <th>4</th>\n",
       "      <td>M6030 JERSEY SHIRT LANGARM</td>\n",
       "      <td>AUBERGINE 2</td>\n",
       "      <td>KADIN T-SHIRT</td>\n",
       "      <td>2SP050</td>\n",
       "      <td>NE 50/1 PNY 20DE - SUPREM A.EN 32 28 125 G/M2 ...</td>\n",
       "      <td>125</td>\n",
       "      <td>150</td>\n",
       "      <td>4</td>\n",
       "      <td>65</td>\n",
       "      <td>3</td>\n",
       "      <td>...</td>\n",
       "      <td>16</td>\n",
       "      <td>411</td>\n",
       "      <td>NaN</td>\n",
       "      <td>3.0</td>\n",
       "      <td>NaN</td>\n",
       "      <td>NaN</td>\n",
       "      <td>NaN</td>\n",
       "      <td>NaN</td>\n",
       "      <td>3</td>\n",
       "      <td>NaN</td>\n",
       "    </tr>\n",
       "  </tbody>\n",
       "</table>\n",
       "<p>5 rows × 22 columns</p>\n",
       "</div>"
      ],
      "text/plain": [
       "                      Product        Color  ProductDetail FabricCode  \\\n",
       "0  M6030 JERSEY SHIRT LANGARM        PINIE  KADIN T-SHIRT     2SP050   \n",
       "1  M6030 JERSEY SHIRT LANGARM     PFIRSICH  KADIN T-SHIRT     2SP050   \n",
       "2  M6030 JERSEY SHIRT LANGARM     HELLBLAU  KADIN T-SHIRT     2SP050   \n",
       "3  M6030 JERSEY SHIRT LANGARM   PETROLBLAU  KADIN T-SHIRT     2SP050   \n",
       "4  M6030 JERSEY SHIRT LANGARM  AUBERGINE 2  KADIN T-SHIRT     2SP050   \n",
       "\n",
       "                                        FabricDetail  Weight Width  \\\n",
       "0  NE 50/1 PNY 20DE - SUPREM A.EN 32 28 125 G/M2 ...     125   150   \n",
       "1  NE 50/1 PNY 20DE - SUPREM A.EN 32 28 125 G/M2 ...     125   150   \n",
       "2  NE 50/1 PNY 20DE - SUPREM A.EN 32 28 125 G/M2 ...     125   150   \n",
       "3  NE 50/1 PNY 20DE - SUPREM A.EN 32 28 125 G/M2 ...     125   150   \n",
       "4  NE 50/1 PNY 20DE - SUPREM A.EN 32 28 125 G/M2 ...     125   150   \n",
       "\n",
       "   ProductPart NotchLayer NotchQuantity  ...  Repair  Delivery  PrintError  \\\n",
       "0            4         35             3  ...      20       399         4.0   \n",
       "1            4         65             3  ...      22       411         NaN   \n",
       "2            4         65             3  ...      19       378         1.0   \n",
       "3            4         65             3  ...      18       406         NaN   \n",
       "4            4         65             3  ...      16       411         NaN   \n",
       "\n",
       "   SewingError  FabricStain  FabricError  EmbroideryError  MeasureError  \\\n",
       "0          NaN          1.0          1.0              NaN           NaN   \n",
       "1          2.0          1.0          NaN              NaN           NaN   \n",
       "2          5.0          2.0          1.0              1.0           1.0   \n",
       "3          4.0          2.0          2.0              NaN           NaN   \n",
       "4          3.0          NaN          NaN              NaN           NaN   \n",
       "\n",
       "   SecondQuality  Comment  \n",
       "0              6      NaN  \n",
       "1              3      NaN  \n",
       "2             11      NaN  \n",
       "3              8      NaN  \n",
       "4              3      NaN  \n",
       "\n",
       "[5 rows x 22 columns]"
      ]
     },
     "execution_count": 3,
     "metadata": {},
     "output_type": "execute_result"
    }
   ],
   "source": [
    "#A pandas dataframe named as dataFrame is being created by reading the data pkl file created last process\n",
    "dataFrame = pd.read_pickle(\"../Data/NeddedColumns/FabricWaste.pkl\")\n",
    "dataFrame.head()"
   ]
  },
  {
   "cell_type": "code",
   "execution_count": 4,
   "metadata": {},
   "outputs": [
    {
     "name": "stdout",
     "output_type": "stream",
     "text": [
      "<class 'pandas.core.frame.DataFrame'>\n",
      "RangeIndex: 209 entries, 0 to 208\n",
      "Data columns (total 22 columns):\n",
      " #   Column           Non-Null Count  Dtype  \n",
      "---  ------           --------------  -----  \n",
      " 0   Product          209 non-null    object \n",
      " 1   Color            209 non-null    object \n",
      " 2   ProductDetail    209 non-null    object \n",
      " 3   FabricCode       209 non-null    object \n",
      " 4   FabricDetail     209 non-null    object \n",
      " 5   Weight           209 non-null    int64  \n",
      " 6   Width            209 non-null    object \n",
      " 7   ProductPart      209 non-null    int64  \n",
      " 8   NotchLayer       209 non-null    object \n",
      " 9   NotchQuantity    201 non-null    object \n",
      " 10  OrderQuantity    209 non-null    int64  \n",
      " 11  Quantity         209 non-null    int64  \n",
      " 12  Repair           209 non-null    int64  \n",
      " 13  Delivery         209 non-null    int64  \n",
      " 14  PrintError       63 non-null     float64\n",
      " 15  SewingError      190 non-null    float64\n",
      " 16  FabricStain      42 non-null     float64\n",
      " 17  FabricError      116 non-null    float64\n",
      " 18  EmbroideryError  14 non-null     float64\n",
      " 19  MeasureError     28 non-null     float64\n",
      " 20  SecondQuality    209 non-null    int64  \n",
      " 21  Comment          3 non-null      object \n",
      "dtypes: float64(6), int64(7), object(9)\n",
      "memory usage: 36.0+ KB\n"
     ]
    }
   ],
   "source": [
    "#Information of dataFrame is being printed\n",
    "dataFrame.info()"
   ]
  },
  {
   "cell_type": "code",
   "execution_count": 5,
   "metadata": {},
   "outputs": [
    {
     "data": {
      "text/html": [
       "<div>\n",
       "<style scoped>\n",
       "    .dataframe tbody tr th:only-of-type {\n",
       "        vertical-align: middle;\n",
       "    }\n",
       "\n",
       "    .dataframe tbody tr th {\n",
       "        vertical-align: top;\n",
       "    }\n",
       "\n",
       "    .dataframe thead th {\n",
       "        text-align: right;\n",
       "    }\n",
       "</style>\n",
       "<table border=\"1\" class=\"dataframe\">\n",
       "  <thead>\n",
       "    <tr style=\"text-align: right;\">\n",
       "      <th></th>\n",
       "      <th>Weight</th>\n",
       "      <th>ProductPart</th>\n",
       "      <th>OrderQuantity</th>\n",
       "      <th>Quantity</th>\n",
       "      <th>Repair</th>\n",
       "      <th>Delivery</th>\n",
       "      <th>PrintError</th>\n",
       "      <th>SewingError</th>\n",
       "      <th>FabricStain</th>\n",
       "      <th>FabricError</th>\n",
       "      <th>EmbroideryError</th>\n",
       "      <th>MeasureError</th>\n",
       "      <th>SecondQuality</th>\n",
       "    </tr>\n",
       "  </thead>\n",
       "  <tbody>\n",
       "    <tr>\n",
       "      <th>count</th>\n",
       "      <td>209.000000</td>\n",
       "      <td>209.000000</td>\n",
       "      <td>209.000000</td>\n",
       "      <td>209.000000</td>\n",
       "      <td>209.000000</td>\n",
       "      <td>209.000000</td>\n",
       "      <td>63.000000</td>\n",
       "      <td>190.000000</td>\n",
       "      <td>42.000000</td>\n",
       "      <td>116.000000</td>\n",
       "      <td>14.000000</td>\n",
       "      <td>28.000000</td>\n",
       "      <td>209.000000</td>\n",
       "    </tr>\n",
       "    <tr>\n",
       "      <th>mean</th>\n",
       "      <td>171.985646</td>\n",
       "      <td>4.904306</td>\n",
       "      <td>525.167464</td>\n",
       "      <td>570.334928</td>\n",
       "      <td>8.095694</td>\n",
       "      <td>555.464115</td>\n",
       "      <td>16.079365</td>\n",
       "      <td>7.357895</td>\n",
       "      <td>3.119048</td>\n",
       "      <td>3.810345</td>\n",
       "      <td>3.357143</td>\n",
       "      <td>2.892857</td>\n",
       "      <td>14.880383</td>\n",
       "    </tr>\n",
       "    <tr>\n",
       "      <th>std</th>\n",
       "      <td>45.316778</td>\n",
       "      <td>2.417968</td>\n",
       "      <td>807.798585</td>\n",
       "      <td>885.772790</td>\n",
       "      <td>8.943758</td>\n",
       "      <td>860.813865</td>\n",
       "      <td>30.457957</td>\n",
       "      <td>9.545121</td>\n",
       "      <td>5.222850</td>\n",
       "      <td>5.797921</td>\n",
       "      <td>3.629095</td>\n",
       "      <td>2.439479</td>\n",
       "      <td>30.093605</td>\n",
       "    </tr>\n",
       "    <tr>\n",
       "      <th>min</th>\n",
       "      <td>125.000000</td>\n",
       "      <td>2.000000</td>\n",
       "      <td>100.000000</td>\n",
       "      <td>110.000000</td>\n",
       "      <td>0.000000</td>\n",
       "      <td>112.000000</td>\n",
       "      <td>1.000000</td>\n",
       "      <td>1.000000</td>\n",
       "      <td>1.000000</td>\n",
       "      <td>1.000000</td>\n",
       "      <td>1.000000</td>\n",
       "      <td>1.000000</td>\n",
       "      <td>-1.000000</td>\n",
       "    </tr>\n",
       "    <tr>\n",
       "      <th>25%</th>\n",
       "      <td>125.000000</td>\n",
       "      <td>4.000000</td>\n",
       "      <td>210.000000</td>\n",
       "      <td>225.000000</td>\n",
       "      <td>3.000000</td>\n",
       "      <td>220.000000</td>\n",
       "      <td>2.000000</td>\n",
       "      <td>2.000000</td>\n",
       "      <td>1.000000</td>\n",
       "      <td>1.000000</td>\n",
       "      <td>1.250000</td>\n",
       "      <td>1.000000</td>\n",
       "      <td>4.000000</td>\n",
       "    </tr>\n",
       "    <tr>\n",
       "      <th>50%</th>\n",
       "      <td>175.000000</td>\n",
       "      <td>4.000000</td>\n",
       "      <td>270.000000</td>\n",
       "      <td>288.000000</td>\n",
       "      <td>6.000000</td>\n",
       "      <td>284.000000</td>\n",
       "      <td>6.000000</td>\n",
       "      <td>5.000000</td>\n",
       "      <td>1.500000</td>\n",
       "      <td>2.000000</td>\n",
       "      <td>2.000000</td>\n",
       "      <td>2.000000</td>\n",
       "      <td>7.000000</td>\n",
       "    </tr>\n",
       "    <tr>\n",
       "      <th>75%</th>\n",
       "      <td>190.000000</td>\n",
       "      <td>5.000000</td>\n",
       "      <td>400.000000</td>\n",
       "      <td>444.000000</td>\n",
       "      <td>9.000000</td>\n",
       "      <td>438.000000</td>\n",
       "      <td>15.500000</td>\n",
       "      <td>9.000000</td>\n",
       "      <td>2.750000</td>\n",
       "      <td>4.000000</td>\n",
       "      <td>3.750000</td>\n",
       "      <td>4.000000</td>\n",
       "      <td>12.000000</td>\n",
       "    </tr>\n",
       "    <tr>\n",
       "      <th>max</th>\n",
       "      <td>320.000000</td>\n",
       "      <td>14.000000</td>\n",
       "      <td>6000.000000</td>\n",
       "      <td>6605.000000</td>\n",
       "      <td>78.000000</td>\n",
       "      <td>6469.000000</td>\n",
       "      <td>201.000000</td>\n",
       "      <td>88.000000</td>\n",
       "      <td>29.000000</td>\n",
       "      <td>45.000000</td>\n",
       "      <td>15.000000</td>\n",
       "      <td>10.000000</td>\n",
       "      <td>311.000000</td>\n",
       "    </tr>\n",
       "  </tbody>\n",
       "</table>\n",
       "</div>"
      ],
      "text/plain": [
       "           Weight  ProductPart  OrderQuantity     Quantity      Repair  \\\n",
       "count  209.000000   209.000000     209.000000   209.000000  209.000000   \n",
       "mean   171.985646     4.904306     525.167464   570.334928    8.095694   \n",
       "std     45.316778     2.417968     807.798585   885.772790    8.943758   \n",
       "min    125.000000     2.000000     100.000000   110.000000    0.000000   \n",
       "25%    125.000000     4.000000     210.000000   225.000000    3.000000   \n",
       "50%    175.000000     4.000000     270.000000   288.000000    6.000000   \n",
       "75%    190.000000     5.000000     400.000000   444.000000    9.000000   \n",
       "max    320.000000    14.000000    6000.000000  6605.000000   78.000000   \n",
       "\n",
       "          Delivery  PrintError  SewingError  FabricStain  FabricError  \\\n",
       "count   209.000000   63.000000   190.000000    42.000000   116.000000   \n",
       "mean    555.464115   16.079365     7.357895     3.119048     3.810345   \n",
       "std     860.813865   30.457957     9.545121     5.222850     5.797921   \n",
       "min     112.000000    1.000000     1.000000     1.000000     1.000000   \n",
       "25%     220.000000    2.000000     2.000000     1.000000     1.000000   \n",
       "50%     284.000000    6.000000     5.000000     1.500000     2.000000   \n",
       "75%     438.000000   15.500000     9.000000     2.750000     4.000000   \n",
       "max    6469.000000  201.000000    88.000000    29.000000    45.000000   \n",
       "\n",
       "       EmbroideryError  MeasureError  SecondQuality  \n",
       "count        14.000000     28.000000     209.000000  \n",
       "mean          3.357143      2.892857      14.880383  \n",
       "std           3.629095      2.439479      30.093605  \n",
       "min           1.000000      1.000000      -1.000000  \n",
       "25%           1.250000      1.000000       4.000000  \n",
       "50%           2.000000      2.000000       7.000000  \n",
       "75%           3.750000      4.000000      12.000000  \n",
       "max          15.000000     10.000000     311.000000  "
      ]
     },
     "execution_count": 5,
     "metadata": {},
     "output_type": "execute_result"
    }
   ],
   "source": [
    "#Statistical information of dataFrame is being printed\n",
    "dataFrame.describe()"
   ]
  },
  {
   "cell_type": "code",
   "execution_count": 6,
   "metadata": {},
   "outputs": [
    {
     "data": {
      "text/plain": [
       "0                    M6030 JERSEY SHIRT LANGARM\n",
       "1                    M6030 JERSEY SHIRT LANGARM\n",
       "2                    M6030 JERSEY SHIRT LANGARM\n",
       "3                    M6030 JERSEY SHIRT LANGARM\n",
       "4                    M6030 JERSEY SHIRT LANGARM\n",
       "                         ...                   \n",
       "204          B1093 [BMW] ZIP HOODIE  MLAR DAMEN\n",
       "205    B1094 [BMW] 02 MEN'S TSHIRT SPIRIT OF GS\n",
       "206           B1095 [BMW] 03 TSHIRT JUMP OLIVE \n",
       "207       B1096 [BMW] 05 TSHIRT GLORIOUS 4 BLAU\n",
       "208         B1097 [BMW] 12 TSHIRT GS ROT DAMEN \n",
       "Name: Product, Length: 209, dtype: object"
      ]
     },
     "execution_count": 6,
     "metadata": {},
     "output_type": "execute_result"
    }
   ],
   "source": [
    "#The Product column is a string type attribute that contains the name of the product to be produced\n",
    "#This attribute can be used as categorical data in its raw form or detailed information can be collected by processing it\n",
    "#Since object data type is a good choice for data of this type, no action is required in this section\n",
    "dataFrame['Product']"
   ]
  },
  {
   "cell_type": "code",
   "execution_count": 7,
   "metadata": {},
   "outputs": [
    {
     "data": {
      "text/plain": [
       "0               PINIE\n",
       "1            PFIRSICH\n",
       "2            HELLBLAU\n",
       "3          PETROLBLAU\n",
       "4         AUBERGINE 2\n",
       "            ...      \n",
       "204        DEEP BLACK\n",
       "205       BLACK OLIVE\n",
       "206             THYME\n",
       "207    BLUE WING TEAL\n",
       "208     HIGH RISK RED\n",
       "Name: Color, Length: 209, dtype: object"
      ]
     },
     "execution_count": 7,
     "metadata": {},
     "output_type": "execute_result"
    }
   ],
   "source": [
    "#The Color column is a string type attribute that contains the color information of the product to be produced\n",
    "#This attribute can be used as categorical data in its raw form or can be categorized for consideration in a broader context\n",
    "#Since object data type is a good choice for data of this type, no action is required in this section\n",
    "dataFrame['Color']"
   ]
  },
  {
   "cell_type": "code",
   "execution_count": 8,
   "metadata": {},
   "outputs": [
    {
     "data": {
      "text/plain": [
       "0      KADIN T-SHIRT\n",
       "1      KADIN T-SHIRT\n",
       "2      KADIN T-SHIRT\n",
       "3      KADIN T-SHIRT\n",
       "4      KADIN T-SHIRT\n",
       "           ...      \n",
       "204      ERKEK SWEAT\n",
       "205    ERKEK T-SHIRT\n",
       "206    ERKEK T-SHIRT\n",
       "207    ERKEK T-SHIRT\n",
       "208    BAYAN T-SHIRT\n",
       "Name: ProductDetail, Length: 209, dtype: object"
      ]
     },
     "execution_count": 8,
     "metadata": {},
     "output_type": "execute_result"
    }
   ],
   "source": [
    "#The ProductDetail column is a string type attribute that contains the information of the product to be produced\n",
    "#This attribute can be used as categorical data in its raw form or detailed information can be collected by processing it\n",
    "#Since object data type is a good choice for data of this type, no action is required in this section\n",
    "dataFrame['ProductDetail']"
   ]
  },
  {
   "cell_type": "code",
   "execution_count": 9,
   "metadata": {},
   "outputs": [
    {
     "data": {
      "text/plain": [
       "0      2SP050\n",
       "1      2SP050\n",
       "2      2SP050\n",
       "3      2SP050\n",
       "4      2SP050\n",
       "        ...  \n",
       "204    2FT052\n",
       "205    2SP192\n",
       "206    2SP192\n",
       "207    2SP192\n",
       "208    2SP029\n",
       "Name: FabricCode, Length: 209, dtype: object"
      ]
     },
     "execution_count": 9,
     "metadata": {},
     "output_type": "execute_result"
    }
   ],
   "source": [
    "#The FabricCode column is a string type attribute that contains the product code of the fabric to be used\n",
    "#This attribute can be used as categorical data in its raw form\n",
    "#Since object data type is a good choice for data of this type, no action is required in this section\n",
    "dataFrame['FabricCode']"
   ]
  },
  {
   "cell_type": "code",
   "execution_count": 10,
   "metadata": {},
   "outputs": [
    {
     "data": {
      "text/plain": [
       "0      NE 50/1 PNY 20DE - SUPREM A.EN 32 28 125 G/M2 ...\n",
       "1      NE 50/1 PNY 20DE - SUPREM A.EN 32 28 125 G/M2 ...\n",
       "2      NE 50/1 PNY 20DE - SUPREM A.EN 32 28 125 G/M2 ...\n",
       "3      NE 50/1 PNY 20DE - SUPREM A.EN 32 28 125 G/M2 ...\n",
       "4      NE 50/1 PNY 20DE - SUPREM A.EN 32 28 125 G/M2 ...\n",
       "                             ...                        \n",
       "204    NE 30/1 30/1 10/1 PNY PNY KRD - KARB FUTTER 3 ...\n",
       "205    NE 24/1 PNY - - SUPREM A.EN 32 28 175 G/M2 %10...\n",
       "206    NE 24/1 PNY - - SUPREM A.EN 32 28 175 G/M2 %10...\n",
       "207    NE 24/1 PNY - - SUPREM A.EN 32 28 175 G/M2 %10...\n",
       "208    NE 30/1 PNY - - SUPREM A.EN 32 28 155 G/M2 %10...\n",
       "Name: FabricDetail, Length: 209, dtype: object"
      ]
     },
     "execution_count": 10,
     "metadata": {},
     "output_type": "execute_result"
    }
   ],
   "source": [
    "#The FabricDetail column is a string type attribute that contains the detailed information about the fabric to be used\n",
    "#This attribute can be used by processing the detailed information in it\n",
    "#Since object data type is a good choice for data of this type, no action is required in this section\n",
    "dataFrame['FabricDetail']"
   ]
  },
  {
   "cell_type": "code",
   "execution_count": 11,
   "metadata": {},
   "outputs": [
    {
     "data": {
      "text/plain": [
       "0      125\n",
       "1      125\n",
       "2      125\n",
       "3      125\n",
       "4      125\n",
       "      ... \n",
       "204    320\n",
       "205    175\n",
       "206    175\n",
       "207    175\n",
       "208    155\n",
       "Name: Weight, Length: 209, dtype: int64"
      ]
     },
     "execution_count": 11,
     "metadata": {},
     "output_type": "execute_result"
    }
   ],
   "source": [
    "#The Weight column is an integer type attribute that contains the weight of the product to be produced\n",
    "#This attribute can be used in its raw form as a numeric attribute\n",
    "#Since int64 data type is a good choice for data of this type, no action is required in this section\n",
    "dataFrame['Weight']"
   ]
  },
  {
   "cell_type": "code",
   "execution_count": 12,
   "metadata": {},
   "outputs": [
    {
     "data": {
      "text/plain": [
       "0      150\n",
       "1      150\n",
       "2      150\n",
       "3      150\n",
       "4      150\n",
       "      ... \n",
       "204    190\n",
       "205    180\n",
       "206    180\n",
       "207    180\n",
       "208    169\n",
       "Name: Width, Length: 209, dtype: object"
      ]
     },
     "execution_count": 12,
     "metadata": {},
     "output_type": "execute_result"
    }
   ],
   "source": [
    "#The Width column is an integer type attribute that contains the width of the fabric to be used\n",
    "#This attribute can be used as a numeric attribute, but object data type is not a good choice for data of this type\n",
    "#This attribute was not interpreted as integer when reading from pkl file via pandas library\n",
    "#There must be a reason for this, this reason will be explored in this section\n",
    "dataFrame['Width']"
   ]
  },
  {
   "cell_type": "code",
   "execution_count": 13,
   "metadata": {},
   "outputs": [
    {
     "data": {
      "text/plain": [
       "0      True\n",
       "1      True\n",
       "2      True\n",
       "3      True\n",
       "4      True\n",
       "       ... \n",
       "204    True\n",
       "205    True\n",
       "206    True\n",
       "207    True\n",
       "208    True\n",
       "Name: Width, Length: 209, dtype: bool"
      ]
     },
     "execution_count": 13,
     "metadata": {},
     "output_type": "execute_result"
    }
   ],
   "source": [
    "#Map of rows containing numeric value in the Width column are being calculated\n",
    "columnMap = dataFrame.applymap(np.isreal)['Width']\n",
    "columnMap"
   ]
  },
  {
   "cell_type": "code",
   "execution_count": 14,
   "metadata": {},
   "outputs": [
    {
     "data": {
      "text/plain": [
       "71     170 - 175\n",
       "72     170 - 175\n",
       "73     170 - 175\n",
       "74     170 - 175\n",
       "75     170 - 175\n",
       "76     170 - 175\n",
       "77     170 - 175\n",
       "78     170 - 175\n",
       "79     170 - 175\n",
       "80     170 - 175\n",
       "81     170 - 175\n",
       "82     170 - 175\n",
       "83     170 - 175\n",
       "84     170 - 175\n",
       "115    170 - 175\n",
       "116    170 - 175\n",
       "117    170 - 175\n",
       "153    170 - 175\n",
       "154    170 - 175\n",
       "155    170 - 175\n",
       "156    170 - 175\n",
       "157    170 - 175\n",
       "158    170 - 175\n",
       "159    170 - 175\n",
       "160    170 - 175\n",
       "161    170 - 175\n",
       "162    170 - 175\n",
       "163    170 - 175\n",
       "164    170 - 175\n",
       "165    170 - 175\n",
       "Name: Width, dtype: object"
      ]
     },
     "execution_count": 14,
     "metadata": {},
     "output_type": "execute_result"
    }
   ],
   "source": [
    "#Rows containing non-numeric value in the Width column are being printed\n",
    "dataFrame[~columnMap]['Width']"
   ]
  },
  {
   "cell_type": "code",
   "execution_count": 15,
   "metadata": {},
   "outputs": [
    {
     "data": {
      "text/plain": [
       "71     172.5\n",
       "72     172.5\n",
       "73     172.5\n",
       "74     172.5\n",
       "75     172.5\n",
       "76     172.5\n",
       "77     172.5\n",
       "78     172.5\n",
       "79     172.5\n",
       "80     172.5\n",
       "81     172.5\n",
       "82     172.5\n",
       "83     172.5\n",
       "84     172.5\n",
       "115    172.5\n",
       "116    172.5\n",
       "117    172.5\n",
       "153    172.5\n",
       "154    172.5\n",
       "155    172.5\n",
       "156    172.5\n",
       "157    172.5\n",
       "158    172.5\n",
       "159    172.5\n",
       "160    172.5\n",
       "161    172.5\n",
       "162    172.5\n",
       "163    172.5\n",
       "164    172.5\n",
       "165    172.5\n",
       "Name: Width, dtype: object"
      ]
     },
     "execution_count": 15,
     "metadata": {},
     "output_type": "execute_result"
    }
   ],
   "source": [
    "#When the data is examined, an integer range can be seen instead of an integer value\n",
    "#This needs to be fixed as the attribute cannot be used as integer as such\n",
    "\n",
    "#Considering the range is in min-max format, the arithmetic mean of the min and max values ((min + max) / 2)\n",
    "#can be used as the numeric value for this attribute\n",
    "dataFrame.loc[~columnMap, 'Width'] = dataFrame.loc[~columnMap, 'Width'].apply(\n",
    "    lambda x : (int(x.split('-')[0]) + int(x.split('-')[1])) / 2)\n",
    "dataFrame[~columnMap]['Width']"
   ]
  },
  {
   "cell_type": "code",
   "execution_count": 16,
   "metadata": {},
   "outputs": [
    {
     "data": {
      "text/plain": [
       "(0, 22)"
      ]
     },
     "execution_count": 16,
     "metadata": {},
     "output_type": "execute_result"
    }
   ],
   "source": [
    "#Shape of rows containing non-numeric value in the Width column are being printed\n",
    "dataFrame[~dataFrame.applymap(np.isreal)['Width']].shape"
   ]
  },
  {
   "cell_type": "code",
   "execution_count": 17,
   "metadata": {},
   "outputs": [
    {
     "data": {
      "text/plain": [
       "0      150\n",
       "1      150\n",
       "2      150\n",
       "3      150\n",
       "4      150\n",
       "      ... \n",
       "204    190\n",
       "205    180\n",
       "206    180\n",
       "207    180\n",
       "208    169\n",
       "Name: Width, Length: 209, dtype: int64"
      ]
     },
     "execution_count": 17,
     "metadata": {},
     "output_type": "execute_result"
    }
   ],
   "source": [
    "#Since there is no non-numeric data for Width column it can be converted to int64 data type,\n",
    "#numbers with commas will be rounded to floor integer\n",
    "dataFrame['Width'] = pd.to_numeric(dataFrame['Width']).astype(np.int64)\n",
    "dataFrame['Width']"
   ]
  },
  {
   "cell_type": "code",
   "execution_count": 18,
   "metadata": {},
   "outputs": [
    {
     "data": {
      "text/plain": [
       "0       4\n",
       "1       4\n",
       "2       4\n",
       "3       4\n",
       "4       4\n",
       "       ..\n",
       "204    13\n",
       "205     4\n",
       "206     4\n",
       "207     4\n",
       "208     5\n",
       "Name: ProductPart, Length: 209, dtype: int64"
      ]
     },
     "execution_count": 18,
     "metadata": {},
     "output_type": "execute_result"
    }
   ],
   "source": [
    "#The ProductPart column is an integer type attribute that contains\n",
    "#the information of the number of parts contained in the product to be produced\n",
    "#This attribute can be used in its raw form as a numeric attribute\n",
    "#Since int64 data type is a good choice for data of this type, no action is required in this section\n",
    "dataFrame['ProductPart']"
   ]
  },
  {
   "cell_type": "code",
   "execution_count": 19,
   "metadata": {},
   "outputs": [
    {
     "data": {
      "text/plain": [
       "0       35\n",
       "1       65\n",
       "2       65\n",
       "3       65\n",
       "4       65\n",
       "      ... \n",
       "204    145\n",
       "205    420\n",
       "206    350\n",
       "207    430\n",
       "208     75\n",
       "Name: NotchLayer, Length: 209, dtype: object"
      ]
     },
     "execution_count": 19,
     "metadata": {},
     "output_type": "execute_result"
    }
   ],
   "source": [
    "#The NotchLayer column is an integer type attribute that contains the number of notch layers of the fabric to be used\n",
    "#This attribute can be used as a numeric attribute, but object data type is not a good choice for data of this type\n",
    "#This attribute was not interpreted as integer when reading from pkl file via pandas library\n",
    "#There must be a reason for this, this reason will be explored in this section\n",
    "dataFrame['NotchLayer']"
   ]
  },
  {
   "cell_type": "code",
   "execution_count": 20,
   "metadata": {},
   "outputs": [
    {
     "data": {
      "text/plain": [
       "0      True\n",
       "1      True\n",
       "2      True\n",
       "3      True\n",
       "4      True\n",
       "       ... \n",
       "204    True\n",
       "205    True\n",
       "206    True\n",
       "207    True\n",
       "208    True\n",
       "Name: NotchLayer, Length: 209, dtype: bool"
      ]
     },
     "execution_count": 20,
     "metadata": {},
     "output_type": "execute_result"
    }
   ],
   "source": [
    "#Map of rows containing numeric value in the NotchLayer column are being calculated\n",
    "columnMap = dataFrame.applymap(np.isreal)['NotchLayer']\n",
    "columnMap"
   ]
  },
  {
   "cell_type": "code",
   "execution_count": 21,
   "metadata": {},
   "outputs": [
    {
     "data": {
      "text/plain": [
       "51     çizgili elde serim\n",
       "64     çizgili elde serim\n",
       "65     çizgili elde serim\n",
       "66     çizgili elde serim\n",
       "115                     ?\n",
       "116                     ?\n",
       "117                     ?\n",
       "118    çizgili elde serim\n",
       "119    çizgili elde serim\n",
       "120    çizgili elde serim\n",
       "121    çizgili elde serim\n",
       "Name: NotchLayer, dtype: object"
      ]
     },
     "execution_count": 21,
     "metadata": {},
     "output_type": "execute_result"
    }
   ],
   "source": [
    "#Rows containing non-numeric value in the NotchLayer column are being printed\n",
    "dataFrame[~columnMap]['NotchLayer']"
   ]
  },
  {
   "cell_type": "code",
   "execution_count": 22,
   "metadata": {},
   "outputs": [
    {
     "data": {
      "text/plain": [
       "0      False\n",
       "1      False\n",
       "2      False\n",
       "3      False\n",
       "4      False\n",
       "       ...  \n",
       "204    False\n",
       "205    False\n",
       "206    False\n",
       "207    False\n",
       "208    False\n",
       "Name: NotchLayer, Length: 209, dtype: bool"
      ]
     },
     "execution_count": 22,
     "metadata": {},
     "output_type": "execute_result"
    }
   ],
   "source": [
    "#When the data is examined, it is seen that the non-numeric NotchLayer values takes two different values\n",
    "\n",
    "#1) ?(Question Mark): This value indicates that the data in the relevant cell is unknown\n",
    "#In such cases, the data can be cleared by completely deleting the rows of data that do not exist in the cell\n",
    "#Or especially in such cases where the quantity of data is low \n",
    "#and each row is valuable, the relevant cells can be filled using statistical methods\n",
    "#This method will be applied as no data rows are wanted to be lost in the current situation\n",
    "\n",
    "#Map of rows containing value of '?' in the NotchLayer column are being calculated\n",
    "columnMap = dataFrame['NotchLayer'] == '?'\n",
    "columnMap"
   ]
  },
  {
   "cell_type": "code",
   "execution_count": 23,
   "metadata": {},
   "outputs": [
    {
     "data": {
      "text/plain": [
       "115    ?\n",
       "116    ?\n",
       "117    ?\n",
       "Name: NotchLayer, dtype: object"
      ]
     },
     "execution_count": 23,
     "metadata": {},
     "output_type": "execute_result"
    }
   ],
   "source": [
    "#Rows containing value of '?' in the NotchLayer column are being printed\n",
    "dataFrame[columnMap]['NotchLayer']"
   ]
  },
  {
   "cell_type": "code",
   "execution_count": 24,
   "metadata": {},
   "outputs": [
    {
     "data": {
      "text/plain": [
       "115    66.69697\n",
       "116    66.69697\n",
       "117    66.69697\n",
       "Name: NotchLayer, dtype: object"
      ]
     },
     "execution_count": 24,
     "metadata": {},
     "output_type": "execute_result"
    }
   ],
   "source": [
    "#cells containing '?' in the NotchLayer column are filled with the mean value of numeric values in the NotchLayer column\n",
    "dataFrame.loc[columnMap, 'NotchLayer'] =  dataFrame[dataFrame.applymap(np.isreal)['NotchLayer']]['NotchLayer'].mean()\n",
    "dataFrame[columnMap]['NotchLayer']"
   ]
  },
  {
   "cell_type": "code",
   "execution_count": 25,
   "metadata": {},
   "outputs": [
    {
     "data": {
      "text/plain": [
       "0      True\n",
       "1      True\n",
       "2      True\n",
       "3      True\n",
       "4      True\n",
       "       ... \n",
       "204    True\n",
       "205    True\n",
       "206    True\n",
       "207    True\n",
       "208    True\n",
       "Name: NotchLayer, Length: 209, dtype: bool"
      ]
     },
     "execution_count": 25,
     "metadata": {},
     "output_type": "execute_result"
    }
   ],
   "source": [
    "#Map of rows containing numeric value in the NotchLayer column are being calculated\n",
    "columnMap = dataFrame.applymap(np.isreal)['NotchLayer']\n",
    "columnMap"
   ]
  },
  {
   "cell_type": "code",
   "execution_count": 26,
   "metadata": {},
   "outputs": [
    {
     "data": {
      "text/html": [
       "<div>\n",
       "<style scoped>\n",
       "    .dataframe tbody tr th:only-of-type {\n",
       "        vertical-align: middle;\n",
       "    }\n",
       "\n",
       "    .dataframe tbody tr th {\n",
       "        vertical-align: top;\n",
       "    }\n",
       "\n",
       "    .dataframe thead th {\n",
       "        text-align: right;\n",
       "    }\n",
       "</style>\n",
       "<table border=\"1\" class=\"dataframe\">\n",
       "  <thead>\n",
       "    <tr style=\"text-align: right;\">\n",
       "      <th></th>\n",
       "      <th>NotchLayer</th>\n",
       "      <th>NotchQuantity</th>\n",
       "    </tr>\n",
       "  </thead>\n",
       "  <tbody>\n",
       "    <tr>\n",
       "      <th>51</th>\n",
       "      <td>çizgili elde serim</td>\n",
       "      <td>NaN</td>\n",
       "    </tr>\n",
       "    <tr>\n",
       "      <th>64</th>\n",
       "      <td>çizgili elde serim</td>\n",
       "      <td>NaN</td>\n",
       "    </tr>\n",
       "    <tr>\n",
       "      <th>65</th>\n",
       "      <td>çizgili elde serim</td>\n",
       "      <td>NaN</td>\n",
       "    </tr>\n",
       "    <tr>\n",
       "      <th>66</th>\n",
       "      <td>çizgili elde serim</td>\n",
       "      <td>NaN</td>\n",
       "    </tr>\n",
       "    <tr>\n",
       "      <th>118</th>\n",
       "      <td>çizgili elde serim</td>\n",
       "      <td>NaN</td>\n",
       "    </tr>\n",
       "    <tr>\n",
       "      <th>119</th>\n",
       "      <td>çizgili elde serim</td>\n",
       "      <td>NaN</td>\n",
       "    </tr>\n",
       "    <tr>\n",
       "      <th>120</th>\n",
       "      <td>çizgili elde serim</td>\n",
       "      <td>NaN</td>\n",
       "    </tr>\n",
       "    <tr>\n",
       "      <th>121</th>\n",
       "      <td>çizgili elde serim</td>\n",
       "      <td>NaN</td>\n",
       "    </tr>\n",
       "  </tbody>\n",
       "</table>\n",
       "</div>"
      ],
      "text/plain": [
       "             NotchLayer NotchQuantity\n",
       "51   çizgili elde serim           NaN\n",
       "64   çizgili elde serim           NaN\n",
       "65   çizgili elde serim           NaN\n",
       "66   çizgili elde serim           NaN\n",
       "118  çizgili elde serim           NaN\n",
       "119  çizgili elde serim           NaN\n",
       "120  çizgili elde serim           NaN\n",
       "121  çizgili elde serim           NaN"
      ]
     },
     "execution_count": 26,
     "metadata": {},
     "output_type": "execute_result"
    }
   ],
   "source": [
    "#Rows containing non-numeric value in the NotchLayer column are being printed\n",
    "dataFrame[~columnMap][['NotchLayer', 'NotchQuantity']]"
   ]
  },
  {
   "cell_type": "code",
   "execution_count": 27,
   "metadata": {},
   "outputs": [
    {
     "data": {
      "text/html": [
       "<div>\n",
       "<style scoped>\n",
       "    .dataframe tbody tr th:only-of-type {\n",
       "        vertical-align: middle;\n",
       "    }\n",
       "\n",
       "    .dataframe tbody tr th {\n",
       "        vertical-align: top;\n",
       "    }\n",
       "\n",
       "    .dataframe thead th {\n",
       "        text-align: right;\n",
       "    }\n",
       "</style>\n",
       "<table border=\"1\" class=\"dataframe\">\n",
       "  <thead>\n",
       "    <tr style=\"text-align: right;\">\n",
       "      <th></th>\n",
       "      <th>IsManualProcess</th>\n",
       "      <th>NotchLayer</th>\n",
       "      <th>NotchQuantity</th>\n",
       "    </tr>\n",
       "  </thead>\n",
       "  <tbody>\n",
       "    <tr>\n",
       "      <th>51</th>\n",
       "      <td>True</td>\n",
       "      <td>0</td>\n",
       "      <td>0</td>\n",
       "    </tr>\n",
       "    <tr>\n",
       "      <th>64</th>\n",
       "      <td>True</td>\n",
       "      <td>0</td>\n",
       "      <td>0</td>\n",
       "    </tr>\n",
       "    <tr>\n",
       "      <th>65</th>\n",
       "      <td>True</td>\n",
       "      <td>0</td>\n",
       "      <td>0</td>\n",
       "    </tr>\n",
       "    <tr>\n",
       "      <th>66</th>\n",
       "      <td>True</td>\n",
       "      <td>0</td>\n",
       "      <td>0</td>\n",
       "    </tr>\n",
       "    <tr>\n",
       "      <th>118</th>\n",
       "      <td>True</td>\n",
       "      <td>0</td>\n",
       "      <td>0</td>\n",
       "    </tr>\n",
       "    <tr>\n",
       "      <th>119</th>\n",
       "      <td>True</td>\n",
       "      <td>0</td>\n",
       "      <td>0</td>\n",
       "    </tr>\n",
       "    <tr>\n",
       "      <th>120</th>\n",
       "      <td>True</td>\n",
       "      <td>0</td>\n",
       "      <td>0</td>\n",
       "    </tr>\n",
       "    <tr>\n",
       "      <th>121</th>\n",
       "      <td>True</td>\n",
       "      <td>0</td>\n",
       "      <td>0</td>\n",
       "    </tr>\n",
       "  </tbody>\n",
       "</table>\n",
       "</div>"
      ],
      "text/plain": [
       "     IsManualProcess NotchLayer NotchQuantity\n",
       "51              True          0             0\n",
       "64              True          0             0\n",
       "65              True          0             0\n",
       "66              True          0             0\n",
       "118             True          0             0\n",
       "119             True          0             0\n",
       "120             True          0             0\n",
       "121             True          0             0"
      ]
     },
     "execution_count": 27,
     "metadata": {},
     "output_type": "execute_result"
    }
   ],
   "source": [
    "#2) sentence: this value is a sentence in Turkish\n",
    "#This sentence can be interpreted as the NotchLayer data loses its meaning because some operations are done manually\n",
    "#It also seems that the NotchQuantity data loses its meaning\n",
    "#This proves that NotchLayer and NotchQuantity data are two variables of the same process\n",
    "\n",
    "#In cases where these two attributes become meaningless, these values will be set to 0\n",
    "#and an extra attribute will be defined to indicate that these values become meaningless / a different operation is applied\n",
    "dataFrame.loc[~columnMap, 'NotchLayer'] = 0\n",
    "dataFrame.loc[~columnMap, 'NotchQuantity'] = 0\n",
    "dataFrame.insert(loc=5, column='IsManualProcess', value=~columnMap)\n",
    "dataFrame[~columnMap][['IsManualProcess', 'NotchLayer', 'NotchQuantity']]"
   ]
  },
  {
   "cell_type": "code",
   "execution_count": 28,
   "metadata": {},
   "outputs": [
    {
     "data": {
      "text/plain": [
       "0      True\n",
       "1      True\n",
       "2      True\n",
       "3      True\n",
       "4      True\n",
       "       ... \n",
       "204    True\n",
       "205    True\n",
       "206    True\n",
       "207    True\n",
       "208    True\n",
       "Name: NotchLayer, Length: 209, dtype: bool"
      ]
     },
     "execution_count": 28,
     "metadata": {},
     "output_type": "execute_result"
    }
   ],
   "source": [
    "#Map of rows containing numeric value in the NotchLayer column are being calculated\n",
    "columnMap = dataFrame.applymap(np.isreal)['NotchLayer']\n",
    "columnMap"
   ]
  },
  {
   "cell_type": "code",
   "execution_count": 29,
   "metadata": {},
   "outputs": [
    {
     "data": {
      "text/plain": [
       "(0, 23)"
      ]
     },
     "execution_count": 29,
     "metadata": {},
     "output_type": "execute_result"
    }
   ],
   "source": [
    "#Rows containing non-numeric value in the NotchLayer column are being printed\n",
    "dataFrame[~columnMap].shape"
   ]
  },
  {
   "cell_type": "code",
   "execution_count": 30,
   "metadata": {},
   "outputs": [
    {
     "data": {
      "text/plain": [
       "0       35\n",
       "1       65\n",
       "2       65\n",
       "3       65\n",
       "4       65\n",
       "      ... \n",
       "204    145\n",
       "205    420\n",
       "206    350\n",
       "207    430\n",
       "208     75\n",
       "Name: NotchLayer, Length: 209, dtype: int64"
      ]
     },
     "execution_count": 30,
     "metadata": {},
     "output_type": "execute_result"
    }
   ],
   "source": [
    "#Since there is no non-numeric data for NotchLayer column it can be converted to int64 data type,\n",
    "#numbers with commas will be rounded to floor integer\n",
    "dataFrame['NotchLayer'] = pd.to_numeric(dataFrame['NotchLayer']).astype(np.int64)\n",
    "dataFrame['NotchLayer']"
   ]
  },
  {
   "cell_type": "code",
   "execution_count": 31,
   "metadata": {},
   "outputs": [
    {
     "data": {
      "text/plain": [
       "0      False\n",
       "1      False\n",
       "2      False\n",
       "3      False\n",
       "4      False\n",
       "       ...  \n",
       "204    False\n",
       "205    False\n",
       "206    False\n",
       "207    False\n",
       "208    False\n",
       "Name: IsManualProcess, Length: 209, dtype: bool"
      ]
     },
     "execution_count": 31,
     "metadata": {},
     "output_type": "execute_result"
    }
   ],
   "source": [
    "#New boolean type column added is being printed\n",
    "dataFrame['IsManualProcess']"
   ]
  },
  {
   "cell_type": "code",
   "execution_count": 32,
   "metadata": {},
   "outputs": [
    {
     "data": {
      "text/plain": [
       "0       3\n",
       "1       3\n",
       "2       3\n",
       "3       3\n",
       "4       3\n",
       "       ..\n",
       "204     5\n",
       "205     9\n",
       "206     9\n",
       "207    10\n",
       "208     3\n",
       "Name: NotchQuantity, Length: 209, dtype: object"
      ]
     },
     "execution_count": 32,
     "metadata": {},
     "output_type": "execute_result"
    }
   ],
   "source": [
    "#The NotchQuantity column is an integer type attribute that contains the number of notch of the fabric to be used\n",
    "#This attribute can be used as a numeric attribute, but object data type is not a good choice for data of this type\n",
    "#This attribute was not interpreted as integer when reading from pkl file via pandas library\n",
    "#There must be a reason for this, this reason will be explored in this section\n",
    "dataFrame['NotchQuantity']"
   ]
  },
  {
   "cell_type": "code",
   "execution_count": 33,
   "metadata": {},
   "outputs": [
    {
     "data": {
      "text/plain": [
       "0      True\n",
       "1      True\n",
       "2      True\n",
       "3      True\n",
       "4      True\n",
       "       ... \n",
       "204    True\n",
       "205    True\n",
       "206    True\n",
       "207    True\n",
       "208    True\n",
       "Name: NotchQuantity, Length: 209, dtype: bool"
      ]
     },
     "execution_count": 33,
     "metadata": {},
     "output_type": "execute_result"
    }
   ],
   "source": [
    "#NotchQuantity column was partially edited when editing Notch Layer column\n",
    "#At this stage, the NotchQuantity column will be checked again and the necessary actions will be taken\n",
    "\n",
    "#Map of rows containing numeric value in the NotchQuantity column are being calculated\n",
    "columnMap = dataFrame.applymap(np.isreal)['NotchQuantity']\n",
    "columnMap"
   ]
  },
  {
   "cell_type": "code",
   "execution_count": 34,
   "metadata": {},
   "outputs": [
    {
     "data": {
      "text/plain": [
       "115    ?\n",
       "116    ?\n",
       "117    ?\n",
       "Name: NotchQuantity, dtype: object"
      ]
     },
     "execution_count": 34,
     "metadata": {},
     "output_type": "execute_result"
    }
   ],
   "source": [
    "#Rows containing non-numeric value in the NotchQuantity column are being printed\n",
    "dataFrame[~columnMap]['NotchQuantity']"
   ]
  },
  {
   "cell_type": "code",
   "execution_count": 35,
   "metadata": {
    "scrolled": true
   },
   "outputs": [
    {
     "data": {
      "text/plain": [
       "115    2.854369\n",
       "116    2.854369\n",
       "117    2.854369\n",
       "Name: NotchQuantity, dtype: object"
      ]
     },
     "execution_count": 35,
     "metadata": {},
     "output_type": "execute_result"
    }
   ],
   "source": [
    "#As can be seen, all of the non-numeric cells contains '?' value\n",
    "#cells containing '?' in the NotchQuantity column are filled with the mean value of numeric values in the NotchQuantity column\n",
    "dataFrame.loc[~columnMap, 'NotchQuantity'] =  dataFrame[columnMap]['NotchQuantity'].mean()\n",
    "dataFrame[~columnMap]['NotchQuantity']"
   ]
  },
  {
   "cell_type": "code",
   "execution_count": 36,
   "metadata": {},
   "outputs": [
    {
     "data": {
      "text/plain": [
       "0      True\n",
       "1      True\n",
       "2      True\n",
       "3      True\n",
       "4      True\n",
       "       ... \n",
       "204    True\n",
       "205    True\n",
       "206    True\n",
       "207    True\n",
       "208    True\n",
       "Name: NotchQuantity, Length: 209, dtype: bool"
      ]
     },
     "execution_count": 36,
     "metadata": {},
     "output_type": "execute_result"
    }
   ],
   "source": [
    "#Map of rows containing numeric value in the NotchLayer column are being calculated\n",
    "columnMap = dataFrame.applymap(np.isreal)['NotchQuantity']\n",
    "columnMap"
   ]
  },
  {
   "cell_type": "code",
   "execution_count": 37,
   "metadata": {},
   "outputs": [
    {
     "data": {
      "text/plain": [
       "(0, 23)"
      ]
     },
     "execution_count": 37,
     "metadata": {},
     "output_type": "execute_result"
    }
   ],
   "source": [
    "#Rows containing non-numeric value in the NotchQuantity column are being printed\n",
    "dataFrame[~columnMap].shape"
   ]
  },
  {
   "cell_type": "code",
   "execution_count": 38,
   "metadata": {},
   "outputs": [
    {
     "data": {
      "text/plain": [
       "0       3\n",
       "1       3\n",
       "2       3\n",
       "3       3\n",
       "4       3\n",
       "       ..\n",
       "204     5\n",
       "205     9\n",
       "206     9\n",
       "207    10\n",
       "208     3\n",
       "Name: NotchQuantity, Length: 209, dtype: int64"
      ]
     },
     "execution_count": 38,
     "metadata": {},
     "output_type": "execute_result"
    }
   ],
   "source": [
    "#Since there is no non-numeric data for NotchQuantity column it can be converted to int64 data type,\n",
    "#numbers with commas will be rounded to floor integer\n",
    "dataFrame['NotchQuantity'] = pd.to_numeric(dataFrame['NotchQuantity']).astype(np.int64)\n",
    "dataFrame['NotchQuantity']"
   ]
  },
  {
   "cell_type": "code",
   "execution_count": 39,
   "metadata": {},
   "outputs": [
    {
     "data": {
      "text/plain": [
       "0       375\n",
       "1       375\n",
       "2       375\n",
       "3       375\n",
       "4       375\n",
       "       ... \n",
       "204    1545\n",
       "205    4395\n",
       "206    3900\n",
       "207    4500\n",
       "208     805\n",
       "Name: OrderQuantity, Length: 209, dtype: int64"
      ]
     },
     "execution_count": 39,
     "metadata": {},
     "output_type": "execute_result"
    }
   ],
   "source": [
    "#The OrderQuantity column is an integer type attribute that contains the number of products ordered\n",
    "#This attribute can be used in its raw form as a numeric attribute\n",
    "#Since int64 data type is a good choice for data of this type, no action is required in this section\n",
    "dataFrame['OrderQuantity']"
   ]
  },
  {
   "cell_type": "code",
   "execution_count": 40,
   "metadata": {},
   "outputs": [
    {
     "data": {
      "text/plain": [
       "0       405\n",
       "1       414\n",
       "2       389\n",
       "3       414\n",
       "4       414\n",
       "       ... \n",
       "204    1710\n",
       "205    4834\n",
       "206    4291\n",
       "207    4952\n",
       "208     898\n",
       "Name: Quantity, Length: 209, dtype: int64"
      ]
     },
     "execution_count": 40,
     "metadata": {},
     "output_type": "execute_result"
    }
   ],
   "source": [
    "#The Quantity column is an integer type attribute that contains the number of products produced\n",
    "#This attribute will be used to produce the data to be predicted(output)\n",
    "#Since int64 data type is a good choice for data of this type, no action is required in this section\n",
    "dataFrame['Quantity']"
   ]
  },
  {
   "cell_type": "code",
   "execution_count": 41,
   "metadata": {},
   "outputs": [
    {
     "data": {
      "text/plain": [
       "0      20\n",
       "1      22\n",
       "2      19\n",
       "3      18\n",
       "4      16\n",
       "       ..\n",
       "204    14\n",
       "205    22\n",
       "206    34\n",
       "207    52\n",
       "208     3\n",
       "Name: Repair, Length: 209, dtype: int64"
      ]
     },
     "execution_count": 41,
     "metadata": {},
     "output_type": "execute_result"
    }
   ],
   "source": [
    "#The Repair column is an integer type attribute that contains the number of defective products which successfully repaired\n",
    "#This attribute will be used to produce the data to be predicted(output)\n",
    "#Since int64 data type is a good choice for data of this type, no action is required in this section\n",
    "dataFrame['Repair']"
   ]
  },
  {
   "cell_type": "code",
   "execution_count": 42,
   "metadata": {},
   "outputs": [
    {
     "data": {
      "text/plain": [
       "0       399\n",
       "1       411\n",
       "2       378\n",
       "3       406\n",
       "4       411\n",
       "       ... \n",
       "204    1702\n",
       "205    4703\n",
       "206    4213\n",
       "207    4641\n",
       "208     882\n",
       "Name: Delivery, Length: 209, dtype: int64"
      ]
     },
     "execution_count": 42,
     "metadata": {},
     "output_type": "execute_result"
    }
   ],
   "source": [
    "#The Delivery column is an integer type attribute that contains\n",
    "#the number of products that has quality which can be delivered to the customer\n",
    "#This attribute will be used to produce the data to be predicted(output)\n",
    "#Since int64 data type is a good choice for data of this type, no action is required in this section\n",
    "dataFrame['Delivery']"
   ]
  },
  {
   "cell_type": "code",
   "execution_count": 43,
   "metadata": {},
   "outputs": [
    {
     "data": {
      "text/plain": [
       "0        4\n",
       "1        0\n",
       "2        1\n",
       "3        0\n",
       "4        0\n",
       "      ... \n",
       "204      2\n",
       "205     99\n",
       "206     28\n",
       "207    201\n",
       "208      9\n",
       "Name: PrintError, Length: 209, dtype: int64"
      ]
     },
     "execution_count": 43,
     "metadata": {},
     "output_type": "execute_result"
    }
   ],
   "source": [
    "#The PrintError column is an integer type attribute that contains the number of products\n",
    "#that cannot reach the quality that can be delivered to the customer even after repair becouse of Print Eror\n",
    "#This attribute will be used to produce the data to be predicted(output)\n",
    "\n",
    "#When information of dataFrame is examined, it can be seen that there are null values for this attribute\n",
    "#however, null values for this attribute can simply evaluate to 0\n",
    "\n",
    "#Since float64 data type is not a good choice for data of this type, also type casting will be applied for this attribute\n",
    "dataFrame['PrintError'] = dataFrame['PrintError'].fillna(0).astype(np.int64)\n",
    "dataFrame['PrintError']"
   ]
  },
  {
   "cell_type": "code",
   "execution_count": 44,
   "metadata": {},
   "outputs": [
    {
     "data": {
      "text/plain": [
       "0       0\n",
       "1       2\n",
       "2       5\n",
       "3       4\n",
       "4       3\n",
       "       ..\n",
       "204     6\n",
       "205    27\n",
       "206    38\n",
       "207    88\n",
       "208     6\n",
       "Name: SewingError, Length: 209, dtype: int64"
      ]
     },
     "execution_count": 44,
     "metadata": {},
     "output_type": "execute_result"
    }
   ],
   "source": [
    "#The SewingError column is an integer type attribute that contains the number of products\n",
    "#that cannot reach the quality that can be delivered to the customer even after repair becouse of Sewing Error\n",
    "#This attribute will be used to produce the data to be predicted(output)\n",
    "\n",
    "#When information of dataFrame is examined, it can be seen that there are null values for this attribute\n",
    "#however, null values for this attribute can simply evaluate to 0\n",
    "\n",
    "#Since float64 data type is not a good choice for data of this type, also type casting will be applied for this attribute\n",
    "dataFrame['SewingError'] = dataFrame['SewingError'].fillna(0).astype(np.int64)\n",
    "dataFrame['SewingError']"
   ]
  },
  {
   "cell_type": "code",
   "execution_count": 45,
   "metadata": {},
   "outputs": [
    {
     "data": {
      "text/plain": [
       "0       1\n",
       "1       1\n",
       "2       2\n",
       "3       2\n",
       "4       0\n",
       "       ..\n",
       "204     0\n",
       "205     2\n",
       "206     2\n",
       "207    19\n",
       "208     0\n",
       "Name: FabricStain, Length: 209, dtype: int64"
      ]
     },
     "execution_count": 45,
     "metadata": {},
     "output_type": "execute_result"
    }
   ],
   "source": [
    "#The FabricStain column is an integer type attribute that contains the number of products\n",
    "#that cannot reach the quality that can be delivered to the customer even after repair becouse of Fabric Stain\n",
    "#This attribute will be used to produce the data to be predicted(output)\n",
    "\n",
    "#When information of dataFrame is examined, it can be seen that there are null values for this attribute\n",
    "#however, null values for this attribute can simply evaluate to 0\n",
    "\n",
    "#Since float64 data type is not a good choice for data of this type, also type casting will be applied for this attribute\n",
    "dataFrame['FabricStain'] = dataFrame['FabricStain'].fillna(0).astype(np.int64)\n",
    "dataFrame['FabricStain']"
   ]
  },
  {
   "cell_type": "code",
   "execution_count": 46,
   "metadata": {},
   "outputs": [
    {
     "data": {
      "text/plain": [
       "0       1\n",
       "1       0\n",
       "2       1\n",
       "3       2\n",
       "4       0\n",
       "       ..\n",
       "204     0\n",
       "205     3\n",
       "206    10\n",
       "207     2\n",
       "208     1\n",
       "Name: FabricError, Length: 209, dtype: int64"
      ]
     },
     "execution_count": 46,
     "metadata": {},
     "output_type": "execute_result"
    }
   ],
   "source": [
    "#The FabricError column is an integer type attribute that contains the number of products\n",
    "#that cannot reach the quality that can be delivered to the customer even after repair becouse of Fabric Error\n",
    "#This attribute will be used to produce the data to be predicted(output)\n",
    "\n",
    "#When information of dataFrame is examined, it can be seen that there are null values for this attribute\n",
    "#however, null values for this attribute can simply evaluate to 0\n",
    "\n",
    "#Since float64 data type is not a good choice for data of this type, also type casting will be applied for this attribute\n",
    "dataFrame['FabricError'] = dataFrame['FabricError'].fillna(0).astype(np.int64)\n",
    "dataFrame['FabricError']"
   ]
  },
  {
   "cell_type": "code",
   "execution_count": 47,
   "metadata": {},
   "outputs": [
    {
     "data": {
      "text/plain": [
       "0      0\n",
       "1      0\n",
       "2      1\n",
       "3      0\n",
       "4      0\n",
       "      ..\n",
       "204    0\n",
       "205    0\n",
       "206    0\n",
       "207    0\n",
       "208    0\n",
       "Name: EmbroideryError, Length: 209, dtype: int64"
      ]
     },
     "execution_count": 47,
     "metadata": {},
     "output_type": "execute_result"
    }
   ],
   "source": [
    "#The EmbroideryError column is an integer type attribute that contains the number of products\n",
    "#that cannot reach the quality that can be delivered to the customer even after repair becouse of Embroidery Error\n",
    "#This attribute will be used to produce the data to be predicted(output)\n",
    "\n",
    "#When information of dataFrame is examined, it can be seen that there are null values for this attribute\n",
    "#however, null values for this attribute can simply evaluate to 0\n",
    "\n",
    "#Since float64 data type is not a good choice for data of this type, also type casting will be applied for this attribute\n",
    "dataFrame['EmbroideryError'] = dataFrame['EmbroideryError'].fillna(0).astype(np.int64)\n",
    "dataFrame['EmbroideryError']"
   ]
  },
  {
   "cell_type": "code",
   "execution_count": 48,
   "metadata": {},
   "outputs": [
    {
     "data": {
      "text/plain": [
       "0      0\n",
       "1      0\n",
       "2      1\n",
       "3      0\n",
       "4      0\n",
       "      ..\n",
       "204    0\n",
       "205    0\n",
       "206    0\n",
       "207    1\n",
       "208    0\n",
       "Name: MeasureError, Length: 209, dtype: int64"
      ]
     },
     "execution_count": 48,
     "metadata": {},
     "output_type": "execute_result"
    }
   ],
   "source": [
    "#The MeasureError column is an integer type attribute that contains the number of products\n",
    "#that cannot reach the quality that can be delivered to the customer even after repair becouse of Measure Error\n",
    "#This attribute will be used to produce the data to be predicted(output)\n",
    "\n",
    "#When information of dataFrame is examined, it can be seen that there are null values for this attribute\n",
    "#however, null values for this attribute can simply evaluate to 0\n",
    "\n",
    "#Since float64 data type is not a good choice for data of this type, also type casting will be applied for this attribute\n",
    "dataFrame['MeasureError'] = dataFrame['MeasureError'].fillna(0).astype(np.int64)\n",
    "dataFrame['MeasureError']"
   ]
  },
  {
   "cell_type": "code",
   "execution_count": 49,
   "metadata": {},
   "outputs": [
    {
     "data": {
      "text/plain": [
       "0        6\n",
       "1        3\n",
       "2       11\n",
       "3        8\n",
       "4        3\n",
       "      ... \n",
       "204      8\n",
       "205    131\n",
       "206     78\n",
       "207    311\n",
       "208     16\n",
       "Name: SecondQuality, Length: 209, dtype: int64"
      ]
     },
     "execution_count": 49,
     "metadata": {},
     "output_type": "execute_result"
    }
   ],
   "source": [
    "#The SecondQuality column is an integer type attribute that contains\n",
    "#the number of products that cannot reach the quality that can be delivered to the customer even after repair\n",
    "#This attribute will be used to produce the data to be predicted(output)\n",
    "#Since int64 data type is a good choice for data of this type, no action is required in this section\n",
    "dataFrame['SecondQuality']"
   ]
  },
  {
   "cell_type": "code",
   "execution_count": 50,
   "metadata": {},
   "outputs": [
    {
     "name": "stdout",
     "output_type": "stream",
     "text": [
      "<class 'pandas.core.frame.DataFrame'>\n",
      "RangeIndex: 209 entries, 0 to 208\n",
      "Data columns (total 23 columns):\n",
      " #   Column           Non-Null Count  Dtype \n",
      "---  ------           --------------  ----- \n",
      " 0   Product          209 non-null    object\n",
      " 1   Color            209 non-null    object\n",
      " 2   ProductDetail    209 non-null    object\n",
      " 3   FabricCode       209 non-null    object\n",
      " 4   FabricDetail     209 non-null    object\n",
      " 5   IsManualProcess  209 non-null    bool  \n",
      " 6   Weight           209 non-null    int64 \n",
      " 7   Width            209 non-null    int64 \n",
      " 8   ProductPart      209 non-null    int64 \n",
      " 9   NotchLayer       209 non-null    int64 \n",
      " 10  NotchQuantity    209 non-null    int64 \n",
      " 11  OrderQuantity    209 non-null    int64 \n",
      " 12  Quantity         209 non-null    int64 \n",
      " 13  Repair           209 non-null    int64 \n",
      " 14  Delivery         209 non-null    int64 \n",
      " 15  PrintError       209 non-null    int64 \n",
      " 16  SewingError      209 non-null    int64 \n",
      " 17  FabricStain      209 non-null    int64 \n",
      " 18  FabricError      209 non-null    int64 \n",
      " 19  EmbroideryError  209 non-null    int64 \n",
      " 20  MeasureError     209 non-null    int64 \n",
      " 21  SecondQuality    209 non-null    int64 \n",
      " 22  Comment          3 non-null      object\n",
      "dtypes: bool(1), int64(16), object(6)\n",
      "memory usage: 36.3+ KB\n"
     ]
    }
   ],
   "source": [
    "#Information of dataframe is being printed\n",
    "dataFrame.info()"
   ]
  },
  {
   "cell_type": "code",
   "execution_count": 51,
   "metadata": {},
   "outputs": [
    {
     "data": {
      "text/html": [
       "<div>\n",
       "<style scoped>\n",
       "    .dataframe tbody tr th:only-of-type {\n",
       "        vertical-align: middle;\n",
       "    }\n",
       "\n",
       "    .dataframe tbody tr th {\n",
       "        vertical-align: top;\n",
       "    }\n",
       "\n",
       "    .dataframe thead th {\n",
       "        text-align: right;\n",
       "    }\n",
       "</style>\n",
       "<table border=\"1\" class=\"dataframe\">\n",
       "  <thead>\n",
       "    <tr style=\"text-align: right;\">\n",
       "      <th></th>\n",
       "      <th>Weight</th>\n",
       "      <th>Width</th>\n",
       "      <th>ProductPart</th>\n",
       "      <th>NotchLayer</th>\n",
       "      <th>NotchQuantity</th>\n",
       "      <th>OrderQuantity</th>\n",
       "      <th>Quantity</th>\n",
       "      <th>Repair</th>\n",
       "      <th>Delivery</th>\n",
       "      <th>PrintError</th>\n",
       "      <th>SewingError</th>\n",
       "      <th>FabricStain</th>\n",
       "      <th>FabricError</th>\n",
       "      <th>EmbroideryError</th>\n",
       "      <th>MeasureError</th>\n",
       "      <th>SecondQuality</th>\n",
       "    </tr>\n",
       "  </thead>\n",
       "  <tbody>\n",
       "    <tr>\n",
       "      <th>count</th>\n",
       "      <td>209.000000</td>\n",
       "      <td>209.000000</td>\n",
       "      <td>209.000000</td>\n",
       "      <td>209.000000</td>\n",
       "      <td>209.000000</td>\n",
       "      <td>209.000000</td>\n",
       "      <td>209.000000</td>\n",
       "      <td>209.000000</td>\n",
       "      <td>209.000000</td>\n",
       "      <td>209.000000</td>\n",
       "      <td>209.000000</td>\n",
       "      <td>209.000000</td>\n",
       "      <td>209.000000</td>\n",
       "      <td>209.000000</td>\n",
       "      <td>209.000000</td>\n",
       "      <td>209.000000</td>\n",
       "    </tr>\n",
       "    <tr>\n",
       "      <th>mean</th>\n",
       "      <td>171.985646</td>\n",
       "      <td>161.717703</td>\n",
       "      <td>4.904306</td>\n",
       "      <td>64.133971</td>\n",
       "      <td>2.842105</td>\n",
       "      <td>525.167464</td>\n",
       "      <td>570.334928</td>\n",
       "      <td>8.095694</td>\n",
       "      <td>555.464115</td>\n",
       "      <td>4.846890</td>\n",
       "      <td>6.688995</td>\n",
       "      <td>0.626794</td>\n",
       "      <td>2.114833</td>\n",
       "      <td>0.224880</td>\n",
       "      <td>0.387560</td>\n",
       "      <td>14.880383</td>\n",
       "    </tr>\n",
       "    <tr>\n",
       "      <th>std</th>\n",
       "      <td>45.316778</td>\n",
       "      <td>17.010227</td>\n",
       "      <td>2.417968</td>\n",
       "      <td>73.222338</td>\n",
       "      <td>1.577775</td>\n",
       "      <td>807.798585</td>\n",
       "      <td>885.772790</td>\n",
       "      <td>8.943758</td>\n",
       "      <td>860.813865</td>\n",
       "      <td>18.199628</td>\n",
       "      <td>9.342517</td>\n",
       "      <td>2.635638</td>\n",
       "      <td>4.710485</td>\n",
       "      <td>1.237302</td>\n",
       "      <td>1.322163</td>\n",
       "      <td>30.093605</td>\n",
       "    </tr>\n",
       "    <tr>\n",
       "      <th>min</th>\n",
       "      <td>125.000000</td>\n",
       "      <td>120.000000</td>\n",
       "      <td>2.000000</td>\n",
       "      <td>0.000000</td>\n",
       "      <td>0.000000</td>\n",
       "      <td>100.000000</td>\n",
       "      <td>110.000000</td>\n",
       "      <td>0.000000</td>\n",
       "      <td>112.000000</td>\n",
       "      <td>0.000000</td>\n",
       "      <td>0.000000</td>\n",
       "      <td>0.000000</td>\n",
       "      <td>0.000000</td>\n",
       "      <td>0.000000</td>\n",
       "      <td>0.000000</td>\n",
       "      <td>-1.000000</td>\n",
       "    </tr>\n",
       "    <tr>\n",
       "      <th>25%</th>\n",
       "      <td>125.000000</td>\n",
       "      <td>150.000000</td>\n",
       "      <td>4.000000</td>\n",
       "      <td>33.000000</td>\n",
       "      <td>2.000000</td>\n",
       "      <td>210.000000</td>\n",
       "      <td>225.000000</td>\n",
       "      <td>3.000000</td>\n",
       "      <td>220.000000</td>\n",
       "      <td>0.000000</td>\n",
       "      <td>1.000000</td>\n",
       "      <td>0.000000</td>\n",
       "      <td>0.000000</td>\n",
       "      <td>0.000000</td>\n",
       "      <td>0.000000</td>\n",
       "      <td>4.000000</td>\n",
       "    </tr>\n",
       "    <tr>\n",
       "      <th>50%</th>\n",
       "      <td>175.000000</td>\n",
       "      <td>165.000000</td>\n",
       "      <td>4.000000</td>\n",
       "      <td>44.000000</td>\n",
       "      <td>3.000000</td>\n",
       "      <td>270.000000</td>\n",
       "      <td>288.000000</td>\n",
       "      <td>6.000000</td>\n",
       "      <td>284.000000</td>\n",
       "      <td>0.000000</td>\n",
       "      <td>4.000000</td>\n",
       "      <td>0.000000</td>\n",
       "      <td>1.000000</td>\n",
       "      <td>0.000000</td>\n",
       "      <td>0.000000</td>\n",
       "      <td>7.000000</td>\n",
       "    </tr>\n",
       "    <tr>\n",
       "      <th>75%</th>\n",
       "      <td>190.000000</td>\n",
       "      <td>172.000000</td>\n",
       "      <td>5.000000</td>\n",
       "      <td>67.000000</td>\n",
       "      <td>3.000000</td>\n",
       "      <td>400.000000</td>\n",
       "      <td>444.000000</td>\n",
       "      <td>9.000000</td>\n",
       "      <td>438.000000</td>\n",
       "      <td>2.000000</td>\n",
       "      <td>9.000000</td>\n",
       "      <td>0.000000</td>\n",
       "      <td>2.000000</td>\n",
       "      <td>0.000000</td>\n",
       "      <td>0.000000</td>\n",
       "      <td>12.000000</td>\n",
       "    </tr>\n",
       "    <tr>\n",
       "      <th>max</th>\n",
       "      <td>320.000000</td>\n",
       "      <td>195.000000</td>\n",
       "      <td>14.000000</td>\n",
       "      <td>610.000000</td>\n",
       "      <td>14.000000</td>\n",
       "      <td>6000.000000</td>\n",
       "      <td>6605.000000</td>\n",
       "      <td>78.000000</td>\n",
       "      <td>6469.000000</td>\n",
       "      <td>201.000000</td>\n",
       "      <td>88.000000</td>\n",
       "      <td>29.000000</td>\n",
       "      <td>45.000000</td>\n",
       "      <td>15.000000</td>\n",
       "      <td>10.000000</td>\n",
       "      <td>311.000000</td>\n",
       "    </tr>\n",
       "  </tbody>\n",
       "</table>\n",
       "</div>"
      ],
      "text/plain": [
       "           Weight       Width  ProductPart  NotchLayer  NotchQuantity  \\\n",
       "count  209.000000  209.000000   209.000000  209.000000     209.000000   \n",
       "mean   171.985646  161.717703     4.904306   64.133971       2.842105   \n",
       "std     45.316778   17.010227     2.417968   73.222338       1.577775   \n",
       "min    125.000000  120.000000     2.000000    0.000000       0.000000   \n",
       "25%    125.000000  150.000000     4.000000   33.000000       2.000000   \n",
       "50%    175.000000  165.000000     4.000000   44.000000       3.000000   \n",
       "75%    190.000000  172.000000     5.000000   67.000000       3.000000   \n",
       "max    320.000000  195.000000    14.000000  610.000000      14.000000   \n",
       "\n",
       "       OrderQuantity     Quantity      Repair     Delivery  PrintError  \\\n",
       "count     209.000000   209.000000  209.000000   209.000000  209.000000   \n",
       "mean      525.167464   570.334928    8.095694   555.464115    4.846890   \n",
       "std       807.798585   885.772790    8.943758   860.813865   18.199628   \n",
       "min       100.000000   110.000000    0.000000   112.000000    0.000000   \n",
       "25%       210.000000   225.000000    3.000000   220.000000    0.000000   \n",
       "50%       270.000000   288.000000    6.000000   284.000000    0.000000   \n",
       "75%       400.000000   444.000000    9.000000   438.000000    2.000000   \n",
       "max      6000.000000  6605.000000   78.000000  6469.000000  201.000000   \n",
       "\n",
       "       SewingError  FabricStain  FabricError  EmbroideryError  MeasureError  \\\n",
       "count   209.000000   209.000000   209.000000       209.000000    209.000000   \n",
       "mean      6.688995     0.626794     2.114833         0.224880      0.387560   \n",
       "std       9.342517     2.635638     4.710485         1.237302      1.322163   \n",
       "min       0.000000     0.000000     0.000000         0.000000      0.000000   \n",
       "25%       1.000000     0.000000     0.000000         0.000000      0.000000   \n",
       "50%       4.000000     0.000000     1.000000         0.000000      0.000000   \n",
       "75%       9.000000     0.000000     2.000000         0.000000      0.000000   \n",
       "max      88.000000    29.000000    45.000000        15.000000     10.000000   \n",
       "\n",
       "       SecondQuality  \n",
       "count     209.000000  \n",
       "mean       14.880383  \n",
       "std        30.093605  \n",
       "min        -1.000000  \n",
       "25%         4.000000  \n",
       "50%         7.000000  \n",
       "75%        12.000000  \n",
       "max       311.000000  "
      ]
     },
     "execution_count": 51,
     "metadata": {},
     "output_type": "execute_result"
    }
   ],
   "source": [
    "#Statistical information of dataframe is being printed\n",
    "dataFrame.describe()"
   ]
  },
  {
   "cell_type": "code",
   "execution_count": 52,
   "metadata": {},
   "outputs": [
    {
     "data": {
      "text/html": [
       "<div>\n",
       "<style scoped>\n",
       "    .dataframe tbody tr th:only-of-type {\n",
       "        vertical-align: middle;\n",
       "    }\n",
       "\n",
       "    .dataframe tbody tr th {\n",
       "        vertical-align: top;\n",
       "    }\n",
       "\n",
       "    .dataframe thead th {\n",
       "        text-align: right;\n",
       "    }\n",
       "</style>\n",
       "<table border=\"1\" class=\"dataframe\">\n",
       "  <thead>\n",
       "    <tr style=\"text-align: right;\">\n",
       "      <th></th>\n",
       "      <th>SecondQuality</th>\n",
       "      <th>Comment</th>\n",
       "    </tr>\n",
       "  </thead>\n",
       "  <tbody>\n",
       "    <tr>\n",
       "      <th>121</th>\n",
       "      <td>-1</td>\n",
       "      <td>numune siparişe eklendi</td>\n",
       "    </tr>\n",
       "    <tr>\n",
       "      <th>200</th>\n",
       "      <td>-1</td>\n",
       "      <td>numune siparişe eklendi</td>\n",
       "    </tr>\n",
       "  </tbody>\n",
       "</table>\n",
       "</div>"
      ],
      "text/plain": [
       "     SecondQuality                  Comment\n",
       "121             -1  numune siparişe eklendi\n",
       "200             -1  numune siparişe eklendi"
      ]
     },
     "execution_count": 52,
     "metadata": {},
     "output_type": "execute_result"
    }
   ],
   "source": [
    "#When statistical information of dataFrame is examined,\n",
    "#it can be seen that the minimum SecondQuality value is -1 which is meaningless\n",
    "\n",
    "#Because SecondQuality value indicates that how many products are of a quality that cannot be delivered to customer\n",
    "#It doesn't make much sense that -1 products were produced with a defect.\n",
    "\n",
    "#Let's take a look at the situation\n",
    "mask = dataFrame['SecondQuality'] < 0\n",
    "dataFrame[mask][['SecondQuality', 'Comment']]"
   ]
  },
  {
   "cell_type": "code",
   "execution_count": 53,
   "metadata": {},
   "outputs": [
    {
     "data": {
      "text/html": [
       "<div>\n",
       "<style scoped>\n",
       "    .dataframe tbody tr th:only-of-type {\n",
       "        vertical-align: middle;\n",
       "    }\n",
       "\n",
       "    .dataframe tbody tr th {\n",
       "        vertical-align: top;\n",
       "    }\n",
       "\n",
       "    .dataframe thead th {\n",
       "        text-align: right;\n",
       "    }\n",
       "</style>\n",
       "<table border=\"1\" class=\"dataframe\">\n",
       "  <thead>\n",
       "    <tr style=\"text-align: right;\">\n",
       "      <th></th>\n",
       "      <th>SecondQuality</th>\n",
       "      <th>Comment</th>\n",
       "    </tr>\n",
       "  </thead>\n",
       "  <tbody>\n",
       "    <tr>\n",
       "      <th>121</th>\n",
       "      <td>-1</td>\n",
       "      <td>numune siparişe eklendi</td>\n",
       "    </tr>\n",
       "    <tr>\n",
       "      <th>175</th>\n",
       "      <td>0</td>\n",
       "      <td>Numuneler siparişe eklendi</td>\n",
       "    </tr>\n",
       "    <tr>\n",
       "      <th>200</th>\n",
       "      <td>-1</td>\n",
       "      <td>numune siparişe eklendi</td>\n",
       "    </tr>\n",
       "  </tbody>\n",
       "</table>\n",
       "</div>"
      ],
      "text/plain": [
       "     SecondQuality                     Comment\n",
       "121             -1     numune siparişe eklendi\n",
       "175              0  Numuneler siparişe eklendi\n",
       "200             -1     numune siparişe eklendi"
      ]
     },
     "execution_count": 53,
     "metadata": {},
     "output_type": "execute_result"
    }
   ],
   "source": [
    "#This was addressed in the PreAnalysis section and communicated to the customer who provided the data\n",
    "#Since this affects the reliability of the data to be predicted,\n",
    "#the customer has examined the data and added a new column to the excel file\n",
    "#this column named as Comment is a description attribute written for rows which contains such data\n",
    "\n",
    "#In the PreAnalysis section, \n",
    "#this was interpreted as the surplus products from previous orders may have been added to these orders\n",
    "#According to the comment that the customer added in the Comment column, this is very close to this assumption\n",
    "#The only difference is the products added are sample products not surplus products from previous orders\n",
    "#The comment in the comment column is the Turkish explanation of this situation\n",
    "\n",
    "#Rows with non-null comment attribute are being printed\n",
    "mask = dataFrame['Comment'].notnull()\n",
    "dataFrame[mask][['SecondQuality', 'Comment']]"
   ]
  },
  {
   "cell_type": "code",
   "execution_count": 54,
   "metadata": {},
   "outputs": [
    {
     "data": {
      "text/html": [
       "<div>\n",
       "<style scoped>\n",
       "    .dataframe tbody tr th:only-of-type {\n",
       "        vertical-align: middle;\n",
       "    }\n",
       "\n",
       "    .dataframe tbody tr th {\n",
       "        vertical-align: top;\n",
       "    }\n",
       "\n",
       "    .dataframe thead th {\n",
       "        text-align: right;\n",
       "    }\n",
       "</style>\n",
       "<table border=\"1\" class=\"dataframe\">\n",
       "  <thead>\n",
       "    <tr style=\"text-align: right;\">\n",
       "      <th></th>\n",
       "      <th>Product</th>\n",
       "      <th>Color</th>\n",
       "      <th>ProductDetail</th>\n",
       "      <th>FabricCode</th>\n",
       "      <th>FabricDetail</th>\n",
       "      <th>IsManualProcess</th>\n",
       "      <th>Weight</th>\n",
       "      <th>Width</th>\n",
       "      <th>ProductPart</th>\n",
       "      <th>NotchLayer</th>\n",
       "      <th>...</th>\n",
       "      <th>Repair</th>\n",
       "      <th>Delivery</th>\n",
       "      <th>PrintError</th>\n",
       "      <th>SewingError</th>\n",
       "      <th>FabricStain</th>\n",
       "      <th>FabricError</th>\n",
       "      <th>EmbroideryError</th>\n",
       "      <th>MeasureError</th>\n",
       "      <th>SecondQuality</th>\n",
       "      <th>Comment</th>\n",
       "    </tr>\n",
       "  </thead>\n",
       "  <tbody>\n",
       "    <tr>\n",
       "      <th>0</th>\n",
       "      <td>M6030 JERSEY SHIRT LANGARM</td>\n",
       "      <td>PINIE</td>\n",
       "      <td>KADIN T-SHIRT</td>\n",
       "      <td>2SP050</td>\n",
       "      <td>NE 50/1 PNY 20DE - SUPREM A.EN 32 28 125 G/M2 ...</td>\n",
       "      <td>False</td>\n",
       "      <td>125</td>\n",
       "      <td>150</td>\n",
       "      <td>4</td>\n",
       "      <td>35</td>\n",
       "      <td>...</td>\n",
       "      <td>20</td>\n",
       "      <td>399</td>\n",
       "      <td>4</td>\n",
       "      <td>0</td>\n",
       "      <td>1</td>\n",
       "      <td>1</td>\n",
       "      <td>0</td>\n",
       "      <td>0</td>\n",
       "      <td>6</td>\n",
       "      <td>NaN</td>\n",
       "    </tr>\n",
       "    <tr>\n",
       "      <th>1</th>\n",
       "      <td>M6030 JERSEY SHIRT LANGARM</td>\n",
       "      <td>PFIRSICH</td>\n",
       "      <td>KADIN T-SHIRT</td>\n",
       "      <td>2SP050</td>\n",
       "      <td>NE 50/1 PNY 20DE - SUPREM A.EN 32 28 125 G/M2 ...</td>\n",
       "      <td>False</td>\n",
       "      <td>125</td>\n",
       "      <td>150</td>\n",
       "      <td>4</td>\n",
       "      <td>65</td>\n",
       "      <td>...</td>\n",
       "      <td>22</td>\n",
       "      <td>411</td>\n",
       "      <td>0</td>\n",
       "      <td>2</td>\n",
       "      <td>1</td>\n",
       "      <td>0</td>\n",
       "      <td>0</td>\n",
       "      <td>0</td>\n",
       "      <td>3</td>\n",
       "      <td>NaN</td>\n",
       "    </tr>\n",
       "    <tr>\n",
       "      <th>2</th>\n",
       "      <td>M6030 JERSEY SHIRT LANGARM</td>\n",
       "      <td>HELLBLAU</td>\n",
       "      <td>KADIN T-SHIRT</td>\n",
       "      <td>2SP050</td>\n",
       "      <td>NE 50/1 PNY 20DE - SUPREM A.EN 32 28 125 G/M2 ...</td>\n",
       "      <td>False</td>\n",
       "      <td>125</td>\n",
       "      <td>150</td>\n",
       "      <td>4</td>\n",
       "      <td>65</td>\n",
       "      <td>...</td>\n",
       "      <td>19</td>\n",
       "      <td>378</td>\n",
       "      <td>1</td>\n",
       "      <td>5</td>\n",
       "      <td>2</td>\n",
       "      <td>1</td>\n",
       "      <td>1</td>\n",
       "      <td>1</td>\n",
       "      <td>11</td>\n",
       "      <td>NaN</td>\n",
       "    </tr>\n",
       "    <tr>\n",
       "      <th>3</th>\n",
       "      <td>M6030 JERSEY SHIRT LANGARM</td>\n",
       "      <td>PETROLBLAU</td>\n",
       "      <td>KADIN T-SHIRT</td>\n",
       "      <td>2SP050</td>\n",
       "      <td>NE 50/1 PNY 20DE - SUPREM A.EN 32 28 125 G/M2 ...</td>\n",
       "      <td>False</td>\n",
       "      <td>125</td>\n",
       "      <td>150</td>\n",
       "      <td>4</td>\n",
       "      <td>65</td>\n",
       "      <td>...</td>\n",
       "      <td>18</td>\n",
       "      <td>406</td>\n",
       "      <td>0</td>\n",
       "      <td>4</td>\n",
       "      <td>2</td>\n",
       "      <td>2</td>\n",
       "      <td>0</td>\n",
       "      <td>0</td>\n",
       "      <td>8</td>\n",
       "      <td>NaN</td>\n",
       "    </tr>\n",
       "    <tr>\n",
       "      <th>4</th>\n",
       "      <td>M6030 JERSEY SHIRT LANGARM</td>\n",
       "      <td>AUBERGINE 2</td>\n",
       "      <td>KADIN T-SHIRT</td>\n",
       "      <td>2SP050</td>\n",
       "      <td>NE 50/1 PNY 20DE - SUPREM A.EN 32 28 125 G/M2 ...</td>\n",
       "      <td>False</td>\n",
       "      <td>125</td>\n",
       "      <td>150</td>\n",
       "      <td>4</td>\n",
       "      <td>65</td>\n",
       "      <td>...</td>\n",
       "      <td>16</td>\n",
       "      <td>411</td>\n",
       "      <td>0</td>\n",
       "      <td>3</td>\n",
       "      <td>0</td>\n",
       "      <td>0</td>\n",
       "      <td>0</td>\n",
       "      <td>0</td>\n",
       "      <td>3</td>\n",
       "      <td>NaN</td>\n",
       "    </tr>\n",
       "    <tr>\n",
       "      <th>...</th>\n",
       "      <td>...</td>\n",
       "      <td>...</td>\n",
       "      <td>...</td>\n",
       "      <td>...</td>\n",
       "      <td>...</td>\n",
       "      <td>...</td>\n",
       "      <td>...</td>\n",
       "      <td>...</td>\n",
       "      <td>...</td>\n",
       "      <td>...</td>\n",
       "      <td>...</td>\n",
       "      <td>...</td>\n",
       "      <td>...</td>\n",
       "      <td>...</td>\n",
       "      <td>...</td>\n",
       "      <td>...</td>\n",
       "      <td>...</td>\n",
       "      <td>...</td>\n",
       "      <td>...</td>\n",
       "      <td>...</td>\n",
       "      <td>...</td>\n",
       "    </tr>\n",
       "    <tr>\n",
       "      <th>204</th>\n",
       "      <td>B1093 [BMW] ZIP HOODIE  MLAR DAMEN</td>\n",
       "      <td>DEEP BLACK</td>\n",
       "      <td>ERKEK SWEAT</td>\n",
       "      <td>2FT052</td>\n",
       "      <td>NE 30/1 30/1 10/1 PNY PNY KRD - KARB FUTTER 3 ...</td>\n",
       "      <td>False</td>\n",
       "      <td>320</td>\n",
       "      <td>190</td>\n",
       "      <td>13</td>\n",
       "      <td>145</td>\n",
       "      <td>...</td>\n",
       "      <td>14</td>\n",
       "      <td>1702</td>\n",
       "      <td>2</td>\n",
       "      <td>6</td>\n",
       "      <td>0</td>\n",
       "      <td>0</td>\n",
       "      <td>0</td>\n",
       "      <td>0</td>\n",
       "      <td>8</td>\n",
       "      <td>NaN</td>\n",
       "    </tr>\n",
       "    <tr>\n",
       "      <th>205</th>\n",
       "      <td>B1094 [BMW] 02 MEN'S TSHIRT SPIRIT OF GS</td>\n",
       "      <td>BLACK OLIVE</td>\n",
       "      <td>ERKEK T-SHIRT</td>\n",
       "      <td>2SP192</td>\n",
       "      <td>NE 24/1 PNY - - SUPREM A.EN 32 28 175 G/M2 %10...</td>\n",
       "      <td>False</td>\n",
       "      <td>175</td>\n",
       "      <td>180</td>\n",
       "      <td>4</td>\n",
       "      <td>420</td>\n",
       "      <td>...</td>\n",
       "      <td>22</td>\n",
       "      <td>4703</td>\n",
       "      <td>99</td>\n",
       "      <td>27</td>\n",
       "      <td>2</td>\n",
       "      <td>3</td>\n",
       "      <td>0</td>\n",
       "      <td>0</td>\n",
       "      <td>131</td>\n",
       "      <td>NaN</td>\n",
       "    </tr>\n",
       "    <tr>\n",
       "      <th>206</th>\n",
       "      <td>B1095 [BMW] 03 TSHIRT JUMP OLIVE</td>\n",
       "      <td>THYME</td>\n",
       "      <td>ERKEK T-SHIRT</td>\n",
       "      <td>2SP192</td>\n",
       "      <td>NE 24/1 PNY - - SUPREM A.EN 32 28 175 G/M2 %10...</td>\n",
       "      <td>False</td>\n",
       "      <td>175</td>\n",
       "      <td>180</td>\n",
       "      <td>4</td>\n",
       "      <td>350</td>\n",
       "      <td>...</td>\n",
       "      <td>34</td>\n",
       "      <td>4213</td>\n",
       "      <td>28</td>\n",
       "      <td>38</td>\n",
       "      <td>2</td>\n",
       "      <td>10</td>\n",
       "      <td>0</td>\n",
       "      <td>0</td>\n",
       "      <td>78</td>\n",
       "      <td>NaN</td>\n",
       "    </tr>\n",
       "    <tr>\n",
       "      <th>207</th>\n",
       "      <td>B1096 [BMW] 05 TSHIRT GLORIOUS 4 BLAU</td>\n",
       "      <td>BLUE WING TEAL</td>\n",
       "      <td>ERKEK T-SHIRT</td>\n",
       "      <td>2SP192</td>\n",
       "      <td>NE 24/1 PNY - - SUPREM A.EN 32 28 175 G/M2 %10...</td>\n",
       "      <td>False</td>\n",
       "      <td>175</td>\n",
       "      <td>180</td>\n",
       "      <td>4</td>\n",
       "      <td>430</td>\n",
       "      <td>...</td>\n",
       "      <td>52</td>\n",
       "      <td>4641</td>\n",
       "      <td>201</td>\n",
       "      <td>88</td>\n",
       "      <td>19</td>\n",
       "      <td>2</td>\n",
       "      <td>0</td>\n",
       "      <td>1</td>\n",
       "      <td>311</td>\n",
       "      <td>NaN</td>\n",
       "    </tr>\n",
       "    <tr>\n",
       "      <th>208</th>\n",
       "      <td>B1097 [BMW] 12 TSHIRT GS ROT DAMEN</td>\n",
       "      <td>HIGH RISK RED</td>\n",
       "      <td>BAYAN T-SHIRT</td>\n",
       "      <td>2SP029</td>\n",
       "      <td>NE 30/1 PNY - - SUPREM A.EN 32 28 155 G/M2 %10...</td>\n",
       "      <td>False</td>\n",
       "      <td>155</td>\n",
       "      <td>169</td>\n",
       "      <td>5</td>\n",
       "      <td>75</td>\n",
       "      <td>...</td>\n",
       "      <td>3</td>\n",
       "      <td>882</td>\n",
       "      <td>9</td>\n",
       "      <td>6</td>\n",
       "      <td>0</td>\n",
       "      <td>1</td>\n",
       "      <td>0</td>\n",
       "      <td>0</td>\n",
       "      <td>16</td>\n",
       "      <td>NaN</td>\n",
       "    </tr>\n",
       "  </tbody>\n",
       "</table>\n",
       "<p>206 rows × 23 columns</p>\n",
       "</div>"
      ],
      "text/plain": [
       "                                      Product           Color  ProductDetail  \\\n",
       "0                  M6030 JERSEY SHIRT LANGARM           PINIE  KADIN T-SHIRT   \n",
       "1                  M6030 JERSEY SHIRT LANGARM        PFIRSICH  KADIN T-SHIRT   \n",
       "2                  M6030 JERSEY SHIRT LANGARM        HELLBLAU  KADIN T-SHIRT   \n",
       "3                  M6030 JERSEY SHIRT LANGARM      PETROLBLAU  KADIN T-SHIRT   \n",
       "4                  M6030 JERSEY SHIRT LANGARM     AUBERGINE 2  KADIN T-SHIRT   \n",
       "..                                        ...             ...            ...   \n",
       "204        B1093 [BMW] ZIP HOODIE  MLAR DAMEN      DEEP BLACK    ERKEK SWEAT   \n",
       "205  B1094 [BMW] 02 MEN'S TSHIRT SPIRIT OF GS     BLACK OLIVE  ERKEK T-SHIRT   \n",
       "206         B1095 [BMW] 03 TSHIRT JUMP OLIVE            THYME  ERKEK T-SHIRT   \n",
       "207     B1096 [BMW] 05 TSHIRT GLORIOUS 4 BLAU  BLUE WING TEAL  ERKEK T-SHIRT   \n",
       "208       B1097 [BMW] 12 TSHIRT GS ROT DAMEN    HIGH RISK RED  BAYAN T-SHIRT   \n",
       "\n",
       "    FabricCode                                       FabricDetail  \\\n",
       "0       2SP050  NE 50/1 PNY 20DE - SUPREM A.EN 32 28 125 G/M2 ...   \n",
       "1       2SP050  NE 50/1 PNY 20DE - SUPREM A.EN 32 28 125 G/M2 ...   \n",
       "2       2SP050  NE 50/1 PNY 20DE - SUPREM A.EN 32 28 125 G/M2 ...   \n",
       "3       2SP050  NE 50/1 PNY 20DE - SUPREM A.EN 32 28 125 G/M2 ...   \n",
       "4       2SP050  NE 50/1 PNY 20DE - SUPREM A.EN 32 28 125 G/M2 ...   \n",
       "..         ...                                                ...   \n",
       "204     2FT052  NE 30/1 30/1 10/1 PNY PNY KRD - KARB FUTTER 3 ...   \n",
       "205     2SP192  NE 24/1 PNY - - SUPREM A.EN 32 28 175 G/M2 %10...   \n",
       "206     2SP192  NE 24/1 PNY - - SUPREM A.EN 32 28 175 G/M2 %10...   \n",
       "207     2SP192  NE 24/1 PNY - - SUPREM A.EN 32 28 175 G/M2 %10...   \n",
       "208     2SP029  NE 30/1 PNY - - SUPREM A.EN 32 28 155 G/M2 %10...   \n",
       "\n",
       "     IsManualProcess  Weight  Width  ProductPart  NotchLayer  ...  Repair  \\\n",
       "0              False     125    150            4          35  ...      20   \n",
       "1              False     125    150            4          65  ...      22   \n",
       "2              False     125    150            4          65  ...      19   \n",
       "3              False     125    150            4          65  ...      18   \n",
       "4              False     125    150            4          65  ...      16   \n",
       "..               ...     ...    ...          ...         ...  ...     ...   \n",
       "204            False     320    190           13         145  ...      14   \n",
       "205            False     175    180            4         420  ...      22   \n",
       "206            False     175    180            4         350  ...      34   \n",
       "207            False     175    180            4         430  ...      52   \n",
       "208            False     155    169            5          75  ...       3   \n",
       "\n",
       "     Delivery  PrintError  SewingError  FabricStain  FabricError  \\\n",
       "0         399           4            0            1            1   \n",
       "1         411           0            2            1            0   \n",
       "2         378           1            5            2            1   \n",
       "3         406           0            4            2            2   \n",
       "4         411           0            3            0            0   \n",
       "..        ...         ...          ...          ...          ...   \n",
       "204      1702           2            6            0            0   \n",
       "205      4703          99           27            2            3   \n",
       "206      4213          28           38            2           10   \n",
       "207      4641         201           88           19            2   \n",
       "208       882           9            6            0            1   \n",
       "\n",
       "     EmbroideryError  MeasureError  SecondQuality  Comment  \n",
       "0                  0             0              6      NaN  \n",
       "1                  0             0              3      NaN  \n",
       "2                  1             1             11      NaN  \n",
       "3                  0             0              8      NaN  \n",
       "4                  0             0              3      NaN  \n",
       "..               ...           ...            ...      ...  \n",
       "204                0             0              8      NaN  \n",
       "205                0             0            131      NaN  \n",
       "206                0             0             78      NaN  \n",
       "207                0             1            311      NaN  \n",
       "208                0             0             16      NaN  \n",
       "\n",
       "[206 rows x 23 columns]"
      ]
     },
     "execution_count": 54,
     "metadata": {},
     "output_type": "execute_result"
    }
   ],
   "source": [
    "#These rows are being removed from the dataFrame as there are only three rows with non-null comment\n",
    "#and these rows do not contain reliable output values suitable for prediction\n",
    "dataFrame = dataFrame[~mask]\n",
    "dataFrame"
   ]
  },
  {
   "cell_type": "code",
   "execution_count": 55,
   "metadata": {},
   "outputs": [
    {
     "data": {
      "text/plain": [
       "(0, 23)"
      ]
     },
     "execution_count": 55,
     "metadata": {},
     "output_type": "execute_result"
    }
   ],
   "source": [
    "#Rows with non-null comment attribute are being printed\n",
    "mask = dataFrame['Comment'].notnull()\n",
    "dataFrame[mask].shape"
   ]
  },
  {
   "cell_type": "code",
   "execution_count": 56,
   "metadata": {},
   "outputs": [
    {
     "data": {
      "text/html": [
       "<div>\n",
       "<style scoped>\n",
       "    .dataframe tbody tr th:only-of-type {\n",
       "        vertical-align: middle;\n",
       "    }\n",
       "\n",
       "    .dataframe tbody tr th {\n",
       "        vertical-align: top;\n",
       "    }\n",
       "\n",
       "    .dataframe thead th {\n",
       "        text-align: right;\n",
       "    }\n",
       "</style>\n",
       "<table border=\"1\" class=\"dataframe\">\n",
       "  <thead>\n",
       "    <tr style=\"text-align: right;\">\n",
       "      <th></th>\n",
       "      <th>Product</th>\n",
       "      <th>Color</th>\n",
       "      <th>ProductDetail</th>\n",
       "      <th>FabricCode</th>\n",
       "      <th>FabricDetail</th>\n",
       "      <th>IsManualProcess</th>\n",
       "      <th>Weight</th>\n",
       "      <th>Width</th>\n",
       "      <th>ProductPart</th>\n",
       "      <th>NotchLayer</th>\n",
       "      <th>...</th>\n",
       "      <th>Quantity</th>\n",
       "      <th>Repair</th>\n",
       "      <th>Delivery</th>\n",
       "      <th>PrintError</th>\n",
       "      <th>SewingError</th>\n",
       "      <th>FabricStain</th>\n",
       "      <th>FabricError</th>\n",
       "      <th>EmbroideryError</th>\n",
       "      <th>MeasureError</th>\n",
       "      <th>SecondQuality</th>\n",
       "    </tr>\n",
       "  </thead>\n",
       "  <tbody>\n",
       "    <tr>\n",
       "      <th>0</th>\n",
       "      <td>M6030 JERSEY SHIRT LANGARM</td>\n",
       "      <td>PINIE</td>\n",
       "      <td>KADIN T-SHIRT</td>\n",
       "      <td>2SP050</td>\n",
       "      <td>NE 50/1 PNY 20DE - SUPREM A.EN 32 28 125 G/M2 ...</td>\n",
       "      <td>False</td>\n",
       "      <td>125</td>\n",
       "      <td>150</td>\n",
       "      <td>4</td>\n",
       "      <td>35</td>\n",
       "      <td>...</td>\n",
       "      <td>405</td>\n",
       "      <td>20</td>\n",
       "      <td>399</td>\n",
       "      <td>4</td>\n",
       "      <td>0</td>\n",
       "      <td>1</td>\n",
       "      <td>1</td>\n",
       "      <td>0</td>\n",
       "      <td>0</td>\n",
       "      <td>6</td>\n",
       "    </tr>\n",
       "    <tr>\n",
       "      <th>1</th>\n",
       "      <td>M6030 JERSEY SHIRT LANGARM</td>\n",
       "      <td>PFIRSICH</td>\n",
       "      <td>KADIN T-SHIRT</td>\n",
       "      <td>2SP050</td>\n",
       "      <td>NE 50/1 PNY 20DE - SUPREM A.EN 32 28 125 G/M2 ...</td>\n",
       "      <td>False</td>\n",
       "      <td>125</td>\n",
       "      <td>150</td>\n",
       "      <td>4</td>\n",
       "      <td>65</td>\n",
       "      <td>...</td>\n",
       "      <td>414</td>\n",
       "      <td>22</td>\n",
       "      <td>411</td>\n",
       "      <td>0</td>\n",
       "      <td>2</td>\n",
       "      <td>1</td>\n",
       "      <td>0</td>\n",
       "      <td>0</td>\n",
       "      <td>0</td>\n",
       "      <td>3</td>\n",
       "    </tr>\n",
       "    <tr>\n",
       "      <th>2</th>\n",
       "      <td>M6030 JERSEY SHIRT LANGARM</td>\n",
       "      <td>HELLBLAU</td>\n",
       "      <td>KADIN T-SHIRT</td>\n",
       "      <td>2SP050</td>\n",
       "      <td>NE 50/1 PNY 20DE - SUPREM A.EN 32 28 125 G/M2 ...</td>\n",
       "      <td>False</td>\n",
       "      <td>125</td>\n",
       "      <td>150</td>\n",
       "      <td>4</td>\n",
       "      <td>65</td>\n",
       "      <td>...</td>\n",
       "      <td>389</td>\n",
       "      <td>19</td>\n",
       "      <td>378</td>\n",
       "      <td>1</td>\n",
       "      <td>5</td>\n",
       "      <td>2</td>\n",
       "      <td>1</td>\n",
       "      <td>1</td>\n",
       "      <td>1</td>\n",
       "      <td>11</td>\n",
       "    </tr>\n",
       "    <tr>\n",
       "      <th>3</th>\n",
       "      <td>M6030 JERSEY SHIRT LANGARM</td>\n",
       "      <td>PETROLBLAU</td>\n",
       "      <td>KADIN T-SHIRT</td>\n",
       "      <td>2SP050</td>\n",
       "      <td>NE 50/1 PNY 20DE - SUPREM A.EN 32 28 125 G/M2 ...</td>\n",
       "      <td>False</td>\n",
       "      <td>125</td>\n",
       "      <td>150</td>\n",
       "      <td>4</td>\n",
       "      <td>65</td>\n",
       "      <td>...</td>\n",
       "      <td>414</td>\n",
       "      <td>18</td>\n",
       "      <td>406</td>\n",
       "      <td>0</td>\n",
       "      <td>4</td>\n",
       "      <td>2</td>\n",
       "      <td>2</td>\n",
       "      <td>0</td>\n",
       "      <td>0</td>\n",
       "      <td>8</td>\n",
       "    </tr>\n",
       "    <tr>\n",
       "      <th>4</th>\n",
       "      <td>M6030 JERSEY SHIRT LANGARM</td>\n",
       "      <td>AUBERGINE 2</td>\n",
       "      <td>KADIN T-SHIRT</td>\n",
       "      <td>2SP050</td>\n",
       "      <td>NE 50/1 PNY 20DE - SUPREM A.EN 32 28 125 G/M2 ...</td>\n",
       "      <td>False</td>\n",
       "      <td>125</td>\n",
       "      <td>150</td>\n",
       "      <td>4</td>\n",
       "      <td>65</td>\n",
       "      <td>...</td>\n",
       "      <td>414</td>\n",
       "      <td>16</td>\n",
       "      <td>411</td>\n",
       "      <td>0</td>\n",
       "      <td>3</td>\n",
       "      <td>0</td>\n",
       "      <td>0</td>\n",
       "      <td>0</td>\n",
       "      <td>0</td>\n",
       "      <td>3</td>\n",
       "    </tr>\n",
       "  </tbody>\n",
       "</table>\n",
       "<p>5 rows × 22 columns</p>\n",
       "</div>"
      ],
      "text/plain": [
       "                      Product        Color  ProductDetail FabricCode  \\\n",
       "0  M6030 JERSEY SHIRT LANGARM        PINIE  KADIN T-SHIRT     2SP050   \n",
       "1  M6030 JERSEY SHIRT LANGARM     PFIRSICH  KADIN T-SHIRT     2SP050   \n",
       "2  M6030 JERSEY SHIRT LANGARM     HELLBLAU  KADIN T-SHIRT     2SP050   \n",
       "3  M6030 JERSEY SHIRT LANGARM   PETROLBLAU  KADIN T-SHIRT     2SP050   \n",
       "4  M6030 JERSEY SHIRT LANGARM  AUBERGINE 2  KADIN T-SHIRT     2SP050   \n",
       "\n",
       "                                        FabricDetail  IsManualProcess  Weight  \\\n",
       "0  NE 50/1 PNY 20DE - SUPREM A.EN 32 28 125 G/M2 ...            False     125   \n",
       "1  NE 50/1 PNY 20DE - SUPREM A.EN 32 28 125 G/M2 ...            False     125   \n",
       "2  NE 50/1 PNY 20DE - SUPREM A.EN 32 28 125 G/M2 ...            False     125   \n",
       "3  NE 50/1 PNY 20DE - SUPREM A.EN 32 28 125 G/M2 ...            False     125   \n",
       "4  NE 50/1 PNY 20DE - SUPREM A.EN 32 28 125 G/M2 ...            False     125   \n",
       "\n",
       "   Width  ProductPart  NotchLayer  ...  Quantity  Repair  Delivery  \\\n",
       "0    150            4          35  ...       405      20       399   \n",
       "1    150            4          65  ...       414      22       411   \n",
       "2    150            4          65  ...       389      19       378   \n",
       "3    150            4          65  ...       414      18       406   \n",
       "4    150            4          65  ...       414      16       411   \n",
       "\n",
       "   PrintError  SewingError  FabricStain  FabricError  EmbroideryError  \\\n",
       "0           4            0            1            1                0   \n",
       "1           0            2            1            0                0   \n",
       "2           1            5            2            1                1   \n",
       "3           0            4            2            2                0   \n",
       "4           0            3            0            0                0   \n",
       "\n",
       "   MeasureError  SecondQuality  \n",
       "0             0              6  \n",
       "1             0              3  \n",
       "2             1             11  \n",
       "3             0              8  \n",
       "4             0              3  \n",
       "\n",
       "[5 rows x 22 columns]"
      ]
     },
     "execution_count": 56,
     "metadata": {},
     "output_type": "execute_result"
    }
   ],
   "source": [
    "#Since the operations with the comment attribute within the scope of this project are completed\n",
    "#Comment column is being removed\n",
    "dataFrame.drop('Comment', axis = 1, inplace = True)\n",
    "dataFrame.head()"
   ]
  },
  {
   "cell_type": "code",
   "execution_count": 57,
   "metadata": {},
   "outputs": [
    {
     "name": "stdout",
     "output_type": "stream",
     "text": [
      "<class 'pandas.core.frame.DataFrame'>\n",
      "Int64Index: 206 entries, 0 to 208\n",
      "Data columns (total 22 columns):\n",
      " #   Column           Non-Null Count  Dtype \n",
      "---  ------           --------------  ----- \n",
      " 0   Product          206 non-null    object\n",
      " 1   Color            206 non-null    object\n",
      " 2   ProductDetail    206 non-null    object\n",
      " 3   FabricCode       206 non-null    object\n",
      " 4   FabricDetail     206 non-null    object\n",
      " 5   IsManualProcess  206 non-null    bool  \n",
      " 6   Weight           206 non-null    int64 \n",
      " 7   Width            206 non-null    int64 \n",
      " 8   ProductPart      206 non-null    int64 \n",
      " 9   NotchLayer       206 non-null    int64 \n",
      " 10  NotchQuantity    206 non-null    int64 \n",
      " 11  OrderQuantity    206 non-null    int64 \n",
      " 12  Quantity         206 non-null    int64 \n",
      " 13  Repair           206 non-null    int64 \n",
      " 14  Delivery         206 non-null    int64 \n",
      " 15  PrintError       206 non-null    int64 \n",
      " 16  SewingError      206 non-null    int64 \n",
      " 17  FabricStain      206 non-null    int64 \n",
      " 18  FabricError      206 non-null    int64 \n",
      " 19  EmbroideryError  206 non-null    int64 \n",
      " 20  MeasureError     206 non-null    int64 \n",
      " 21  SecondQuality    206 non-null    int64 \n",
      "dtypes: bool(1), int64(16), object(5)\n",
      "memory usage: 35.6+ KB\n"
     ]
    }
   ],
   "source": [
    "#Information of dataframe is being printed\n",
    "dataFrame.info()"
   ]
  },
  {
   "cell_type": "code",
   "execution_count": 58,
   "metadata": {},
   "outputs": [
    {
     "data": {
      "text/html": [
       "<div>\n",
       "<style scoped>\n",
       "    .dataframe tbody tr th:only-of-type {\n",
       "        vertical-align: middle;\n",
       "    }\n",
       "\n",
       "    .dataframe tbody tr th {\n",
       "        vertical-align: top;\n",
       "    }\n",
       "\n",
       "    .dataframe thead th {\n",
       "        text-align: right;\n",
       "    }\n",
       "</style>\n",
       "<table border=\"1\" class=\"dataframe\">\n",
       "  <thead>\n",
       "    <tr style=\"text-align: right;\">\n",
       "      <th></th>\n",
       "      <th>Weight</th>\n",
       "      <th>Width</th>\n",
       "      <th>ProductPart</th>\n",
       "      <th>NotchLayer</th>\n",
       "      <th>NotchQuantity</th>\n",
       "      <th>OrderQuantity</th>\n",
       "      <th>Quantity</th>\n",
       "      <th>Repair</th>\n",
       "      <th>Delivery</th>\n",
       "      <th>PrintError</th>\n",
       "      <th>SewingError</th>\n",
       "      <th>FabricStain</th>\n",
       "      <th>FabricError</th>\n",
       "      <th>EmbroideryError</th>\n",
       "      <th>MeasureError</th>\n",
       "      <th>SecondQuality</th>\n",
       "    </tr>\n",
       "  </thead>\n",
       "  <tbody>\n",
       "    <tr>\n",
       "      <th>count</th>\n",
       "      <td>206.000000</td>\n",
       "      <td>206.000000</td>\n",
       "      <td>206.000000</td>\n",
       "      <td>206.000000</td>\n",
       "      <td>206.000000</td>\n",
       "      <td>206.000000</td>\n",
       "      <td>206.000000</td>\n",
       "      <td>206.000000</td>\n",
       "      <td>206.000000</td>\n",
       "      <td>206.000000</td>\n",
       "      <td>206.000000</td>\n",
       "      <td>206.000000</td>\n",
       "      <td>206.000000</td>\n",
       "      <td>206.000000</td>\n",
       "      <td>206.000000</td>\n",
       "      <td>206.000000</td>\n",
       "    </tr>\n",
       "    <tr>\n",
       "      <th>mean</th>\n",
       "      <td>171.601942</td>\n",
       "      <td>161.451456</td>\n",
       "      <td>4.902913</td>\n",
       "      <td>64.621359</td>\n",
       "      <td>2.864078</td>\n",
       "      <td>528.956311</td>\n",
       "      <td>574.305825</td>\n",
       "      <td>8.179612</td>\n",
       "      <td>559.199029</td>\n",
       "      <td>4.917476</td>\n",
       "      <td>6.786408</td>\n",
       "      <td>0.635922</td>\n",
       "      <td>2.145631</td>\n",
       "      <td>0.228155</td>\n",
       "      <td>0.393204</td>\n",
       "      <td>15.106796</td>\n",
       "    </tr>\n",
       "    <tr>\n",
       "      <th>std</th>\n",
       "      <td>45.318459</td>\n",
       "      <td>16.988808</td>\n",
       "      <td>2.433564</td>\n",
       "      <td>73.558421</td>\n",
       "      <td>1.571382</td>\n",
       "      <td>812.807992</td>\n",
       "      <td>891.308093</td>\n",
       "      <td>8.979205</td>\n",
       "      <td>866.214970</td>\n",
       "      <td>18.322796</td>\n",
       "      <td>9.375266</td>\n",
       "      <td>2.653754</td>\n",
       "      <td>4.737824</td>\n",
       "      <td>1.246021</td>\n",
       "      <td>1.330964</td>\n",
       "      <td>30.253696</td>\n",
       "    </tr>\n",
       "    <tr>\n",
       "      <th>min</th>\n",
       "      <td>125.000000</td>\n",
       "      <td>120.000000</td>\n",
       "      <td>2.000000</td>\n",
       "      <td>0.000000</td>\n",
       "      <td>0.000000</td>\n",
       "      <td>150.000000</td>\n",
       "      <td>148.000000</td>\n",
       "      <td>0.000000</td>\n",
       "      <td>134.000000</td>\n",
       "      <td>0.000000</td>\n",
       "      <td>0.000000</td>\n",
       "      <td>0.000000</td>\n",
       "      <td>0.000000</td>\n",
       "      <td>0.000000</td>\n",
       "      <td>0.000000</td>\n",
       "      <td>1.000000</td>\n",
       "    </tr>\n",
       "    <tr>\n",
       "      <th>25%</th>\n",
       "      <td>125.000000</td>\n",
       "      <td>150.000000</td>\n",
       "      <td>4.000000</td>\n",
       "      <td>33.000000</td>\n",
       "      <td>2.000000</td>\n",
       "      <td>210.000000</td>\n",
       "      <td>225.750000</td>\n",
       "      <td>3.000000</td>\n",
       "      <td>220.250000</td>\n",
       "      <td>0.000000</td>\n",
       "      <td>2.000000</td>\n",
       "      <td>0.000000</td>\n",
       "      <td>0.000000</td>\n",
       "      <td>0.000000</td>\n",
       "      <td>0.000000</td>\n",
       "      <td>4.000000</td>\n",
       "    </tr>\n",
       "    <tr>\n",
       "      <th>50%</th>\n",
       "      <td>175.000000</td>\n",
       "      <td>165.000000</td>\n",
       "      <td>4.000000</td>\n",
       "      <td>44.000000</td>\n",
       "      <td>3.000000</td>\n",
       "      <td>275.000000</td>\n",
       "      <td>289.000000</td>\n",
       "      <td>6.000000</td>\n",
       "      <td>284.500000</td>\n",
       "      <td>0.000000</td>\n",
       "      <td>4.000000</td>\n",
       "      <td>0.000000</td>\n",
       "      <td>1.000000</td>\n",
       "      <td>0.000000</td>\n",
       "      <td>0.000000</td>\n",
       "      <td>7.500000</td>\n",
       "    </tr>\n",
       "    <tr>\n",
       "      <th>75%</th>\n",
       "      <td>190.000000</td>\n",
       "      <td>172.000000</td>\n",
       "      <td>5.000000</td>\n",
       "      <td>66.750000</td>\n",
       "      <td>3.000000</td>\n",
       "      <td>400.000000</td>\n",
       "      <td>443.500000</td>\n",
       "      <td>9.000000</td>\n",
       "      <td>437.750000</td>\n",
       "      <td>2.000000</td>\n",
       "      <td>9.000000</td>\n",
       "      <td>0.000000</td>\n",
       "      <td>2.000000</td>\n",
       "      <td>0.000000</td>\n",
       "      <td>0.000000</td>\n",
       "      <td>12.750000</td>\n",
       "    </tr>\n",
       "    <tr>\n",
       "      <th>max</th>\n",
       "      <td>320.000000</td>\n",
       "      <td>195.000000</td>\n",
       "      <td>14.000000</td>\n",
       "      <td>610.000000</td>\n",
       "      <td>14.000000</td>\n",
       "      <td>6000.000000</td>\n",
       "      <td>6605.000000</td>\n",
       "      <td>78.000000</td>\n",
       "      <td>6469.000000</td>\n",
       "      <td>201.000000</td>\n",
       "      <td>88.000000</td>\n",
       "      <td>29.000000</td>\n",
       "      <td>45.000000</td>\n",
       "      <td>15.000000</td>\n",
       "      <td>10.000000</td>\n",
       "      <td>311.000000</td>\n",
       "    </tr>\n",
       "  </tbody>\n",
       "</table>\n",
       "</div>"
      ],
      "text/plain": [
       "           Weight       Width  ProductPart  NotchLayer  NotchQuantity  \\\n",
       "count  206.000000  206.000000   206.000000  206.000000     206.000000   \n",
       "mean   171.601942  161.451456     4.902913   64.621359       2.864078   \n",
       "std     45.318459   16.988808     2.433564   73.558421       1.571382   \n",
       "min    125.000000  120.000000     2.000000    0.000000       0.000000   \n",
       "25%    125.000000  150.000000     4.000000   33.000000       2.000000   \n",
       "50%    175.000000  165.000000     4.000000   44.000000       3.000000   \n",
       "75%    190.000000  172.000000     5.000000   66.750000       3.000000   \n",
       "max    320.000000  195.000000    14.000000  610.000000      14.000000   \n",
       "\n",
       "       OrderQuantity     Quantity      Repair     Delivery  PrintError  \\\n",
       "count     206.000000   206.000000  206.000000   206.000000  206.000000   \n",
       "mean      528.956311   574.305825    8.179612   559.199029    4.917476   \n",
       "std       812.807992   891.308093    8.979205   866.214970   18.322796   \n",
       "min       150.000000   148.000000    0.000000   134.000000    0.000000   \n",
       "25%       210.000000   225.750000    3.000000   220.250000    0.000000   \n",
       "50%       275.000000   289.000000    6.000000   284.500000    0.000000   \n",
       "75%       400.000000   443.500000    9.000000   437.750000    2.000000   \n",
       "max      6000.000000  6605.000000   78.000000  6469.000000  201.000000   \n",
       "\n",
       "       SewingError  FabricStain  FabricError  EmbroideryError  MeasureError  \\\n",
       "count   206.000000   206.000000   206.000000       206.000000    206.000000   \n",
       "mean      6.786408     0.635922     2.145631         0.228155      0.393204   \n",
       "std       9.375266     2.653754     4.737824         1.246021      1.330964   \n",
       "min       0.000000     0.000000     0.000000         0.000000      0.000000   \n",
       "25%       2.000000     0.000000     0.000000         0.000000      0.000000   \n",
       "50%       4.000000     0.000000     1.000000         0.000000      0.000000   \n",
       "75%       9.000000     0.000000     2.000000         0.000000      0.000000   \n",
       "max      88.000000    29.000000    45.000000        15.000000     10.000000   \n",
       "\n",
       "       SecondQuality  \n",
       "count     206.000000  \n",
       "mean       15.106796  \n",
       "std        30.253696  \n",
       "min         1.000000  \n",
       "25%         4.000000  \n",
       "50%         7.500000  \n",
       "75%        12.750000  \n",
       "max       311.000000  "
      ]
     },
     "execution_count": 58,
     "metadata": {},
     "output_type": "execute_result"
    }
   ],
   "source": [
    "#Statistical information of dataframe is being printed\n",
    "dataFrame.describe()"
   ]
  },
  {
   "cell_type": "code",
   "execution_count": 59,
   "metadata": {},
   "outputs": [],
   "source": [
    "#dataFrame cleaned of columns that will not be used is being saved as pkl file\n",
    "dataFrame.to_pickle(\"../Data/CleanedData/FabricWaste.pkl\")"
   ]
  }
 ],
 "metadata": {
  "kernelspec": {
   "display_name": "Py39Finance",
   "language": "python",
   "name": "py39finance"
  },
  "language_info": {
   "codemirror_mode": {
    "name": "ipython",
    "version": 3
   },
   "file_extension": ".py",
   "mimetype": "text/x-python",
   "name": "python",
   "nbconvert_exporter": "python",
   "pygments_lexer": "ipython3",
   "version": "3.10.8"
  }
 },
 "nbformat": 4,
 "nbformat_minor": 2
}
